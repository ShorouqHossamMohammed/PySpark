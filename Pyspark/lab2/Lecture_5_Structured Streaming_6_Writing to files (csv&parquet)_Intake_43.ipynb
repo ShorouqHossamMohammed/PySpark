{
 "cells": [
  {
   "cell_type": "code",
   "execution_count": 1,
   "id": "39010447",
   "metadata": {},
   "outputs": [],
   "source": [
    "import pyspark\n",
    "from pyspark.sql import SparkSession\n",
    "spark = SparkSession.builder.appName(\"Writing to csv\").getOrCreate()"
   ]
  },
  {
   "cell_type": "code",
   "execution_count": 1,
   "id": "898bcc08",
   "metadata": {},
   "outputs": [],
   "source": [
    "from pyspark.sql.types import (StructType, StructField,\n",
    "                               StringType, IntegerType)\n",
    "\n",
    "recordSchema = StructType([StructField('date', StringType(), True),\n",
    "                           StructField('delay', IntegerType(), True),\n",
    "                           StructField('distance', IntegerType(), True),\n",
    "                           StructField('origin', StringType(), True),\n",
    "                           StructField('destination', StringType(), True)])"
   ]
  },
  {
   "cell_type": "code",
   "execution_count": 2,
   "id": "ff6e3e21",
   "metadata": {},
   "outputs": [],
   "source": [
    "df = spark.readStream.format(\"csv\") \\\n",
    "    .schema(recordSchema) \\\n",
    "    .load(\"MyInputStream/\")"
   ]
  },
  {
   "cell_type": "code",
   "execution_count": 3,
   "id": "3779ded1",
   "metadata": {},
   "outputs": [],
   "source": [
    "import pyspark.sql.functions as F"
   ]
  },
  {
   "cell_type": "code",
   "execution_count": 4,
   "id": "15121a38",
   "metadata": {},
   "outputs": [],
   "source": [
    "df2 = df.groupBy('destination').agg(F.avg('delay').alias('AverageDelay'))"
   ]
  },
  {
   "cell_type": "code",
   "execution_count": 5,
   "id": "53a4a56e",
   "metadata": {},
   "outputs": [],
   "source": [
    "writerAvg = df2.writeStream.outputMode(\"complete\") \\\n",
    "    .format(\"csv\")  \\\n",
    "    .option(\"path\", \"OutStream/\") \\\n",
    "    .option(\"checkpointLocation\", \"chkpnt\") "
   ]
  },
  {
   "cell_type": "code",
   "execution_count": 6,
   "id": "6e94b3ce",
   "metadata": {},
   "outputs": [
    {
     "ename": "AnalysisException",
     "evalue": "Data source csv does not support Complete output mode.",
     "output_type": "error",
     "traceback": [
      "\u001b[0;31m---------------------------------------------------------------------------\u001b[0m",
      "\u001b[0;31mAnalysisException\u001b[0m                         Traceback (most recent call last)",
      "Cell \u001b[0;32mIn[6], line 1\u001b[0m\n\u001b[0;32m----> 1\u001b[0m query \u001b[38;5;241m=\u001b[39m writerAvg\u001b[38;5;241m.\u001b[39mstart()\n",
      "File \u001b[0;32m/opt/spark/python/pyspark/sql/streaming/readwriter.py:1527\u001b[0m, in \u001b[0;36mDataStreamWriter.start\u001b[0;34m(self, path, format, outputMode, partitionBy, queryName, **options)\u001b[0m\n\u001b[1;32m   1525\u001b[0m     \u001b[38;5;28mself\u001b[39m\u001b[38;5;241m.\u001b[39mqueryName(queryName)\n\u001b[1;32m   1526\u001b[0m \u001b[38;5;28;01mif\u001b[39;00m path \u001b[38;5;129;01mis\u001b[39;00m \u001b[38;5;28;01mNone\u001b[39;00m:\n\u001b[0;32m-> 1527\u001b[0m     \u001b[38;5;28;01mreturn\u001b[39;00m \u001b[38;5;28mself\u001b[39m\u001b[38;5;241m.\u001b[39m_sq(\u001b[38;5;28mself\u001b[39m\u001b[38;5;241m.\u001b[39m_jwrite\u001b[38;5;241m.\u001b[39mstart())\n\u001b[1;32m   1528\u001b[0m \u001b[38;5;28;01melse\u001b[39;00m:\n\u001b[1;32m   1529\u001b[0m     \u001b[38;5;28;01mreturn\u001b[39;00m \u001b[38;5;28mself\u001b[39m\u001b[38;5;241m.\u001b[39m_sq(\u001b[38;5;28mself\u001b[39m\u001b[38;5;241m.\u001b[39m_jwrite\u001b[38;5;241m.\u001b[39mstart(path))\n",
      "File \u001b[0;32m/opt/spark/python/lib/py4j-0.10.9.7-src.zip/py4j/java_gateway.py:1322\u001b[0m, in \u001b[0;36mJavaMember.__call__\u001b[0;34m(self, *args)\u001b[0m\n\u001b[1;32m   1316\u001b[0m command \u001b[38;5;241m=\u001b[39m proto\u001b[38;5;241m.\u001b[39mCALL_COMMAND_NAME \u001b[38;5;241m+\u001b[39m\\\n\u001b[1;32m   1317\u001b[0m     \u001b[38;5;28mself\u001b[39m\u001b[38;5;241m.\u001b[39mcommand_header \u001b[38;5;241m+\u001b[39m\\\n\u001b[1;32m   1318\u001b[0m     args_command \u001b[38;5;241m+\u001b[39m\\\n\u001b[1;32m   1319\u001b[0m     proto\u001b[38;5;241m.\u001b[39mEND_COMMAND_PART\n\u001b[1;32m   1321\u001b[0m answer \u001b[38;5;241m=\u001b[39m \u001b[38;5;28mself\u001b[39m\u001b[38;5;241m.\u001b[39mgateway_client\u001b[38;5;241m.\u001b[39msend_command(command)\n\u001b[0;32m-> 1322\u001b[0m return_value \u001b[38;5;241m=\u001b[39m get_return_value(\n\u001b[1;32m   1323\u001b[0m     answer, \u001b[38;5;28mself\u001b[39m\u001b[38;5;241m.\u001b[39mgateway_client, \u001b[38;5;28mself\u001b[39m\u001b[38;5;241m.\u001b[39mtarget_id, \u001b[38;5;28mself\u001b[39m\u001b[38;5;241m.\u001b[39mname)\n\u001b[1;32m   1325\u001b[0m \u001b[38;5;28;01mfor\u001b[39;00m temp_arg \u001b[38;5;129;01min\u001b[39;00m temp_args:\n\u001b[1;32m   1326\u001b[0m     \u001b[38;5;28;01mif\u001b[39;00m \u001b[38;5;28mhasattr\u001b[39m(temp_arg, \u001b[38;5;124m\"\u001b[39m\u001b[38;5;124m_detach\u001b[39m\u001b[38;5;124m\"\u001b[39m):\n",
      "File \u001b[0;32m/opt/spark/python/pyspark/errors/exceptions/captured.py:185\u001b[0m, in \u001b[0;36mcapture_sql_exception.<locals>.deco\u001b[0;34m(*a, **kw)\u001b[0m\n\u001b[1;32m    181\u001b[0m converted \u001b[38;5;241m=\u001b[39m convert_exception(e\u001b[38;5;241m.\u001b[39mjava_exception)\n\u001b[1;32m    182\u001b[0m \u001b[38;5;28;01mif\u001b[39;00m \u001b[38;5;129;01mnot\u001b[39;00m \u001b[38;5;28misinstance\u001b[39m(converted, UnknownException):\n\u001b[1;32m    183\u001b[0m     \u001b[38;5;66;03m# Hide where the exception came from that shows a non-Pythonic\u001b[39;00m\n\u001b[1;32m    184\u001b[0m     \u001b[38;5;66;03m# JVM exception message.\u001b[39;00m\n\u001b[0;32m--> 185\u001b[0m     \u001b[38;5;28;01mraise\u001b[39;00m converted \u001b[38;5;28;01mfrom\u001b[39;00m \u001b[38;5;28;01mNone\u001b[39;00m\n\u001b[1;32m    186\u001b[0m \u001b[38;5;28;01melse\u001b[39;00m:\n\u001b[1;32m    187\u001b[0m     \u001b[38;5;28;01mraise\u001b[39;00m\n",
      "\u001b[0;31mAnalysisException\u001b[0m: Data source csv does not support Complete output mode."
     ]
    }
   ],
   "source": [
    "query = writerAvg.start()"
   ]
  },
  {
   "cell_type": "code",
   "execution_count": null,
   "id": "53c32ede",
   "metadata": {},
   "outputs": [],
   "source": [
    "### Data source csv does not support Complete output mode."
   ]
  },
  {
   "cell_type": "code",
   "execution_count": 13,
   "id": "8758e545",
   "metadata": {},
   "outputs": [],
   "source": [
    "df = spark.readStream.format(\"parquet\") \\\n",
    "    .schema(recordSchema) \\\n",
    "    .load(\"MyInputStream/\")"
   ]
  },
  {
   "cell_type": "code",
   "execution_count": 7,
   "id": "1884e548",
   "metadata": {},
   "outputs": [],
   "source": [
    "writer = df.writeStream.outputMode(\"append\") \\\n",
    "    .format(\"csv\")  \\\n",
    "    .option(\"path\", \"OutStream/\") \\\n",
    "    .option(\"checkpointLocation\", \"chkpnt\") "
   ]
  },
  {
   "cell_type": "code",
   "execution_count": 8,
   "id": "bb801a40",
   "metadata": {},
   "outputs": [],
   "source": [
    "writer = df.writeStream.outputMode(\"append\") \\\n",
    "    .format(\"parquet\")  \\\n",
    "    .option(\"path\", \"OutStream/\") \\\n",
    "    .option(\"checkpointLocation\", \"chkpnt\")"
   ]
  },
  {
   "cell_type": "code",
   "execution_count": 8,
   "id": "fafe0119",
   "metadata": {},
   "outputs": [
    {
     "name": "stderr",
     "output_type": "stream",
     "text": [
      "24/04/07 14:56:54 WARN ResolveWriteToStream: spark.sql.adaptive.enabled is not supported in streaming DataFrames/Datasets and will be disabled.\n",
      "                                                                                \r"
     ]
    }
   ],
   "source": [
    "query = writer.start()\n",
    "#query.awaitTermination()"
   ]
  },
  {
   "cell_type": "code",
   "execution_count": 9,
   "id": "f5cb9d00",
   "metadata": {},
   "outputs": [],
   "source": [
    "query.stop()"
   ]
  },
  {
   "cell_type": "code",
   "execution_count": 12,
   "id": "3f747454",
   "metadata": {},
   "outputs": [
    {
     "name": "stdout",
     "output_type": "stream",
     "text": [
      "+-------+---+---+------+-----------+\n",
      "|   date|_c1|_c2|origin|destination|\n",
      "+-------+---+---+------+-----------+\n",
      "|1121215| -5|602|   ABE|        ATL|\n",
      "|1121725| -1|602|   ABE|        ATL|\n",
      "|1131215| 14|602|   ABE|        ATL|\n",
      "|1130600| -7|369|   ABE|        DTW|\n",
      "|1131725| -6|602|   ABE|        ATL|\n",
      "|1131230|-13|369|   ABE|        DTW|\n",
      "|1130625| 29|602|   ABE|        ATL|\n",
      "|1131219| -8|569|   ABE|        ORD|\n",
      "|1140600| -9|369|   ABE|        DTW|\n",
      "|1141725| -9|602|   ABE|        ATL|\n",
      "|1141230| -8|369|   ABE|        DTW|\n",
      "|1140625| -5|602|   ABE|        ATL|\n",
      "|1141219|-10|569|   ABE|        ORD|\n",
      "|1150600|  0|369|   ABE|        DTW|\n",
      "|1151725| -6|602|   ABE|        ATL|\n",
      "|1151230|  0|369|   ABE|        DTW|\n",
      "|1150625|  0|602|   ABE|        ATL|\n",
      "|1150607|  0|569|   ABE|        ORD|\n",
      "|1151219|  0|569|   ABE|        ORD|\n",
      "|     44| 44| 44|    44|         44|\n",
      "|     12| 23| 22|    22|         22|\n",
      "|1011245|  6|602|   ABE|        ATL|\n",
      "|1020600| -8|369|   ABE|        DTW|\n",
      "|1021245| -2|602|   ABE|        ATL|\n",
      "|1020605| -4|602|   ABE|        ATL|\n",
      "|1031245| -4|602|   ABE|        ATL|\n",
      "|1030605|  0|602|   ABE|        ATL|\n",
      "|1041243| 10|602|   ABE|        ATL|\n",
      "|1040605| 28|602|   ABE|        ATL|\n",
      "|1051245| 88|602|   ABE|        ATL|\n",
      "|1050605|  9|602|   ABE|        ATL|\n",
      "|1061215| -6|602|   ABE|        ATL|\n",
      "|1061725| 69|602|   ABE|        ATL|\n",
      "|1061230|  0|369|   ABE|        DTW|\n",
      "|1060625| -3|602|   ABE|        ATL|\n",
      "|1070600|  0|369|   ABE|        DTW|\n",
      "|1071725|  0|602|   ABE|        ATL|\n",
      "|1071230|  0|369|   ABE|        DTW|\n",
      "|1070625|  0|602|   ABE|        ATL|\n",
      "|1071219|  0|569|   ABE|        ORD|\n",
      "+-------+---+---+------+-----------+\n",
      "only showing top 40 rows\n",
      "\n"
     ]
    },
    {
     "name": "stderr",
     "output_type": "stream",
     "text": [
      "24/04/07 14:58:10 WARN CSVHeaderChecker: CSV header does not conform to the schema.\n",
      " Header: date, , , origin, destination\n",
      " Schema: date, _c1, _c2, origin, destination\n",
      "Expected: _c1 but found: \n",
      "CSV file: file:///home/hatem/PySpark/Ubuntu_Final_Spark_Intake_43/L5_StructuredStreaming/OutStream/part-00000-803af41e-fb4b-4134-84aa-8d9a7d5546a0-c000.csv\n",
      "24/04/07 14:58:10 WARN CSVHeaderChecker: CSV header does not conform to the schema.\n",
      " Header: date, , , origin, destination\n",
      " Schema: date, _c1, _c2, origin, destination\n",
      "Expected: _c1 but found: \n",
      "CSV file: file:///home/hatem/PySpark/Ubuntu_Final_Spark_Intake_43/L5_StructuredStreaming/OutStream/part-00001-fd8322c4-1213-4f95-b829-a7d38a922196-c000.csv\n"
     ]
    }
   ],
   "source": [
    "df = spark.read.csv('OutStream/',header=True,inferSchema=True)\n",
    "df.show(40)"
   ]
  },
  {
   "cell_type": "code",
   "execution_count": 10,
   "id": "e3c81726",
   "metadata": {},
   "outputs": [],
   "source": [
    "df = spark.read.parquet('OutStream/')"
   ]
  },
  {
   "cell_type": "code",
   "execution_count": 11,
   "id": "89fec3cd",
   "metadata": {},
   "outputs": [
    {
     "name": "stdout",
     "output_type": "stream",
     "text": [
      "+-------+-----+--------+------+-----------+\n",
      "|   date|delay|distance|origin|destination|\n",
      "+-------+-----+--------+------+-----------+\n",
      "|   date| null|    null|origin|destination|\n",
      "|1011245|    6|     602|   ABE|        ATL|\n",
      "|1020600|   -8|     369|   ABE|        DTW|\n",
      "|1021245|   -2|     602|   ABE|        ATL|\n",
      "|1020605|   -4|     602|   ABE|        ATL|\n",
      "|1031245|   -4|     602|   ABE|        ATL|\n",
      "|1030605|    0|     602|   ABE|        ATL|\n",
      "|1041243|   10|     602|   ABE|        ATL|\n",
      "|1040605|   28|     602|   ABE|        ATL|\n",
      "|1051245|   88|     602|   ABE|        ATL|\n",
      "|1050605|    9|     602|   ABE|        ATL|\n",
      "|1061215|   -6|     602|   ABE|        ATL|\n",
      "|1061725|   69|     602|   ABE|        ATL|\n",
      "|1061230|    0|     369|   ABE|        DTW|\n",
      "|1060625|   -3|     602|   ABE|        ATL|\n",
      "|1070600|    0|     369|   ABE|        DTW|\n",
      "|1071725|    0|     602|   ABE|        ATL|\n",
      "|1071230|    0|     369|   ABE|        DTW|\n",
      "|1070625|    0|     602|   ABE|        ATL|\n",
      "|1071219|    0|     569|   ABE|        ORD|\n",
      "+-------+-----+--------+------+-----------+\n",
      "\n"
     ]
    }
   ],
   "source": [
    "df.show(40)"
   ]
  },
  {
   "cell_type": "code",
   "execution_count": null,
   "id": "e7898c94",
   "metadata": {},
   "outputs": [],
   "source": []
  }
 ],
 "metadata": {
  "kernelspec": {
   "display_name": "Python 3 (ipykernel)",
   "language": "python",
   "name": "python3"
  },
  "language_info": {
   "codemirror_mode": {
    "name": "ipython",
    "version": 3
   },
   "file_extension": ".py",
   "mimetype": "text/x-python",
   "name": "python",
   "nbconvert_exporter": "python",
   "pygments_lexer": "ipython3",
   "version": "3.11.4"
  }
 },
 "nbformat": 4,
 "nbformat_minor": 5
}
