{
 "cells": [
  {
   "cell_type": "code",
   "execution_count": null,
   "id": "575be7cd",
   "metadata": {},
   "outputs": [],
   "source": [
    "from IPython.display import display, HTML\n",
    "display(HTML(\"<style>pre { white-space: pre !important; }</style>\"))"
   ]
  },
  {
   "cell_type": "markdown",
   "id": "0075711f",
   "metadata": {},
   "source": [
    "## Streaming & GraphFrames:\n",
    "- Define schemas one for each folder of the provided data <b>VertFinalExam</b> and <b>EdgesFinalExam</b>\n",
    "- The data you have contains two dataframes one for graphframe vertices and the other for graphframe edges.                                \n",
    "- Create two emply folders that you will use as a streaming reading sources.\n",
    "- Create a streaming reader to read streaming data from the reading sources:\n",
    "    - You have two folders. So, you will need to create two streaming dataframes each dataframe should read from each folder.\n",
    "    - For example The first streaming dataframe e.g. <b>df1</b> should read from the first streaming data source folder e.g. <b>MyFirstFolder</b> and the second streaming dataframe e.g. <b>df2</b> should read from the second streaming data source folder e.g. <b>MySecondFolder</b> \n",
    "- Now you should have two streaming dataframes one for Edges and one for Vertices.\n",
    "- For the streaming Edges dataframe create a new column to indicate delay categories as follow:\n",
    "    - Early: for early delays (-ve delay values).\n",
    "    - Late: for delayed flights (+ve delay values).\n",
    "    - OnTime: for on time flights (0 delay values).\n",
    "- For the streaming Vertices dataframe remove all rows that contain state as an emplty string <b>state=\"\"</b>.\n",
    "- Create a writer for the final streaming Edges dataframe to write the streaming data in writing sink in a parquet fromat.\n",
    "- Create a writer for the final streaming Vertices dataframe to write the streaming data in writing sink in a parquet fromat.\n",
    "- Start a query for the Edges writer. Copy and paste your <b>EdgesFinalExam</b> data to the edges streaming reading source. Wait to make sure the writing sink folder contains all data. Then stop the query.\n",
    "- Start a query for the Vertices writer. Copy and paste your <b>VertFinalExam</b> data to the vertices streaming reading source. Wait to make sure the writing sink folder contains all data. Then stop the query.\n",
    "- Using <b>spark.read()</b>:\n",
    "    - Read the vertices data from the writing sink directory into static Vertices dataframe.\n",
    "    - Read the edges data from the writing sink directory into static Edges dataframe.\n",
    "- Create a <b>GraphFrame</b> from these data.\n",
    "- Apply <b>PageRank</b> algorithm to find the most <b>10</b> important Vertices. Order the results based on the rank in descending order. <b>Use maxIter=5</b>\n",
    "\n",
    "## Machine Learning:\n",
    "- In this part you will use the Edges dataframe you used for GraphFrame creation in the previous part.\n",
    "- Convert the three dealy categories of the Edges dataframe into integers (0,1,2).\n",
    "- Split the data 80% train and 20% test.\n",
    "- Your task is to predict the delay category using any <b>Classifier</b> of your choice.\n",
    "- Prepare your data as needed.\n",
    "- Perform the required features engineering as needed.\n",
    "- All your steps should be in a pipeline.\n",
    "- Train your model on the trainig data and test on the test data.\n",
    "- You should obtain at least <b>0.5 f1-score</b> and <b>0.6 accuracy</b>.\n",
    "#### Note: Model training will take sometime. Do not worry.\n",
    "\n",
    "# Good Luck"
   ]
  },
  {
   "cell_type": "code",
   "execution_count": null,
   "id": "8aa779b2",
   "metadata": {},
   "outputs": [],
   "source": []
  }
 ],
 "metadata": {
  "kernelspec": {
   "display_name": "Python 3 (ipykernel)",
   "language": "python",
   "name": "python3"
  },
  "language_info": {
   "codemirror_mode": {
    "name": "ipython",
    "version": 3
   },
   "file_extension": ".py",
   "mimetype": "text/x-python",
   "name": "python",
   "nbconvert_exporter": "python",
   "pygments_lexer": "ipython3",
   "version": "3.11.4"
  }
 },
 "nbformat": 4,
 "nbformat_minor": 5
}
