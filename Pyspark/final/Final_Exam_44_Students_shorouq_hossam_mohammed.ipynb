{
  "cells": [
    {
      "cell_type": "code",
      "source": [],
      "metadata": {
        "id": "2tg8I8bVsxxo"
      },
      "id": "2tg8I8bVsxxo",
      "execution_count": null,
      "outputs": []
    },
    {
      "cell_type": "code",
      "source": [
        "from google.colab import drive\n",
        "drive.mount('/content/drive')"
      ],
      "metadata": {
        "colab": {
          "base_uri": "https://localhost:8080/"
        },
        "id": "FuHed9-tsyOV",
        "outputId": "a9045fce-fe4d-4a96-d2c5-a66be856430b"
      },
      "id": "FuHed9-tsyOV",
      "execution_count": 1,
      "outputs": [
        {
          "output_type": "stream",
          "name": "stdout",
          "text": [
            "Drive already mounted at /content/drive; to attempt to forcibly remount, call drive.mount(\"/content/drive\", force_remount=True).\n"
          ]
        }
      ]
    },
    {
      "cell_type": "markdown",
      "id": "0075711f",
      "metadata": {
        "id": "0075711f"
      },
      "source": [
        "## Streaming & GraphFrames:\n",
        "- Define schemas one for each folder of the provided data <b>VertFinalExam</b> and <b>EdgesFinalExam</b>\n",
        "- The data you have contains two dataframes one for graphframe vertices and the other for graphframe edges.                                \n",
        "- Create two emply folders that you will use as a streaming reading sources.\n",
        "- Create a streaming reader to read streaming data from the reading sources:\n",
        "    - You have two folders. So, you will need to create two streaming dataframes each dataframe should read from each folder.\n",
        "    - For example The first streaming dataframe e.g. <b>df1</b> should read from the first streaming data source folder e.g. <b>MyFirstFolder</b> and the second streaming dataframe e.g. <b>df2</b> should read from the second streaming data source folder e.g. <b>MySecondFolder</b>\n",
        "- Now you should have two streaming dataframes one for Edges and one for Vertices.\n",
        "- For the streaming Edges dataframe create a new column to indicate delay categories as follow:\n",
        "    - Early: for early delays (-ve delay values).\n",
        "    - Late: for delayed flights (+ve delay values).\n",
        "    - OnTime: for on time flights (0 delay values).\n",
        "- For the streaming Vertices dataframe remove all rows that contain state as an emplty string <b>state=\"\"</b>.\n",
        "- Create a writer for the final streaming Edges dataframe to write the streaming data in writing sink in a parquet fromat.\n",
        "- Create a writer for the final streaming Vertices dataframe to write the streaming data in writing sink in a parquet fromat.\n",
        "- Start a query for the Edges writer. Copy and paste your <b>EdgesFinalExam</b> data to the edges streaming reading source. Wait to make sure the writing sink folder contains all data. Then stop the query.\n",
        "- Start a query for the Vertices writer. Copy and paste your <b>VertFinalExam</b> data to the vertices streaming reading source. Wait to make sure the writing sink folder contains all data. Then stop the query.\n",
        "- Using <b>spark.read()</b>:\n",
        "    - Read the vertices data from the writing sink directory into static Vertices dataframe.\n",
        "    - Read the edges data from the writing sink directory into static Edges dataframe.\n",
        "- Create a <b>GraphFrame</b> from these data.\n",
        "- Apply <b>PageRank</b> algorithm to find the most <b>10</b> important Vertices. Order the results based on the rank in descending order. <b>Use maxIter=5</b>\n",
        "\n",
        "## Machine Learning:\n",
        "- In this part you will use the Edges dataframe you used for GraphFrame creation in the previous part.\n",
        "- Convert the three dealy categories of the Edges dataframe into integers (0,1,2).\n",
        "- Split the data 80% train and 20% test.\n",
        "- Your task is to predict the delay category using any <b>Classifier</b> of your choice.\n",
        "- Prepare your data as needed.\n",
        "- Perform the required features engineering as needed.\n",
        "- All your steps should be in a pipeline.\n",
        "- Train your model on the trainig data and test on the test data.\n",
        "- You should obtain at least <b>0.5 f1-score</b> and <b>0.6 accuracy</b>.\n",
        "#### Note: Model training will take sometime. Do not worry.\n",
        "\n",
        "# Good Luck"
      ]
    },
    {
      "cell_type": "code",
      "source": [
        "!apt-get install openjdk-11-jdk-headless -qq > /dev/null\n",
        "!wget -q https://bitbucket.org/habedi/datasets/raw/b6769c4664e7ff68b001e2f43bc517888cbe3642/spark/spark-3.0.2-bin-hadoop2.7.tgz\n",
        "!tar xf spark-3.0.2-bin-hadoop2.7.tgz\n",
        "!rm -rf spark-3.0.2-bin-hadoop2.7.tgz*\n",
        "!pip -q install findspark pyspark graphframes\n",
        "!wget https://repos.spark-packages.org/graphframes/graphframes/0.8.2-spark3.0-s_2.12/graphframes-0.8.2-spark3.0-s_2.12.jar -P /content/spark-3.0.2-bin-hadoop2.7/jars/\n",
        "!cp /content/spark-3.0.2-bin-hadoop2.7/jars/graphframes-0.8.2-spark3.0-s_2.12.jar /content/spark-3.0.2-bin-hadoop2.7/graphframes-0.8.2-spark3.0-s_2.12.zip\n",
        "import os\n",
        "\n",
        "os.environ[\"JAVA_HOME\"] = \"/usr/lib/jvm/java-11-openjdk-amd64\"\n",
        "os.environ[\"SPARK_HOME\"] = \"/content/spark-3.0.2-bin-hadoop2.7\"\n",
        "os.environ[\"HADOOP_HOME\"] = os.environ[\"SPARK_HOME\"]\n",
        "\n",
        "os.environ[\"PYSPARK_DRIVER_PYTHON\"] = \"jupyter\"\n",
        "os.environ[\"PYSPARK_DRIVER_PYTHON_OPTS\"] = \"notebook\"\n",
        "os.environ[\"PYSPARK_SUBMIT_ARGS\"] = \"--master local[*] pyspark-shell\"\n",
        "import findspark\n",
        "findspark.init()\n",
        "\n",
        "!export PYSPARK_SUBMIT_ARGS=\"--master local[*] pyspark-shell\"\n",
        "!export PYSPARK_DRIVER_PYTHON=jupyter\n",
        "!export PYSPARK_DRIVER_PYTHON_OPTS=notebook\n",
        "from pyspark.sql import SparkSession\n",
        "from graphframes import *\n",
        "\n",
        "spark = SparkSession.builder.master(\"local[*]\").appName(\"GraphFrames\").getOrCreate()\n",
        "os.environ[\"PYSPARK_SUBMIT_ARGS\"] = \"--packages graphframes:graphframes:0.8.1-spark3.0-s_2.12 pyspark-shell\"\n"
      ],
      "metadata": {
        "colab": {
          "base_uri": "https://localhost:8080/"
        },
        "id": "IG_ghSZzIAXr",
        "outputId": "91669be3-4669-4caf-f5e3-3bf6959535d1"
      },
      "id": "IG_ghSZzIAXr",
      "execution_count": 3,
      "outputs": [
        {
          "output_type": "stream",
          "name": "stdout",
          "text": [
            "--2024-06-26 10:46:24--  https://repos.spark-packages.org/graphframes/graphframes/0.8.2-spark3.0-s_2.12/graphframes-0.8.2-spark3.0-s_2.12.jar\n",
            "Resolving repos.spark-packages.org (repos.spark-packages.org)... 52.84.125.113, 52.84.125.99, 52.84.125.73, ...\n",
            "Connecting to repos.spark-packages.org (repos.spark-packages.org)|52.84.125.113|:443... connected.\n",
            "HTTP request sent, awaiting response... 200 OK\n",
            "Length: 247882 (242K) [binary/octet-stream]\n",
            "Saving to: ‘/content/spark-3.0.2-bin-hadoop2.7/jars/graphframes-0.8.2-spark3.0-s_2.12.jar.2’\n",
            "\n",
            "\r          graphfram   0%[                    ]       0  --.-KB/s               \rgraphframes-0.8.2-s 100%[===================>] 242.07K  --.-KB/s    in 0.04s   \n",
            "\n",
            "2024-06-26 10:46:24 (5.32 MB/s) - ‘/content/spark-3.0.2-bin-hadoop2.7/jars/graphframes-0.8.2-spark3.0-s_2.12.jar.2’ saved [247882/247882]\n",
            "\n"
          ]
        }
      ]
    },
    {
      "cell_type": "code",
      "execution_count": 63,
      "id": "8aa779b2",
      "metadata": {
        "id": "8aa779b2"
      },
      "outputs": [],
      "source": [
        "import pyspark\n",
        "from pyspark.sql.types import *\n",
        "from pyspark.sql.functions import *\n",
        "from pyspark.ml.feature import *\n",
        "from pyspark.ml.classification import *\n",
        "from pyspark.ml import Pipeline\n",
        "from pyspark.ml.evaluation import *"
      ]
    },
    {
      "cell_type": "code",
      "source": [
        "edgeSchema = StructType([StructField('tripid', IntegerType(), True),\n",
        "                           StructField('delay', IntegerType(), True),\n",
        "                           StructField('distance', IntegerType(), True),\n",
        "                           StructField('src', StringType(), True),\n",
        "                           StructField('dst', StringType(), True)])"
      ],
      "metadata": {
        "id": "kblEKkI5xiU5"
      },
      "id": "kblEKkI5xiU5",
      "execution_count": 5,
      "outputs": []
    },
    {
      "cell_type": "code",
      "source": [
        "vertSchema = StructType([StructField('id', StringType(), True),\n",
        "                           StructField('City', StringType(), True),\n",
        "                           StructField('State', StringType(), True),\n",
        "                           StructField('Country', StringType(), True)\n",
        "                           ])"
      ],
      "metadata": {
        "id": "jUAQxLlqyc-S"
      },
      "id": "jUAQxLlqyc-S",
      "execution_count": 6,
      "outputs": []
    },
    {
      "cell_type": "code",
      "source": [
        "!mkdir MyFirstFolder\n",
        "!mkdir MySecondFolder\n"
      ],
      "metadata": {
        "id": "G23pQ-r3zm7E"
      },
      "id": "G23pQ-r3zm7E",
      "execution_count": 7,
      "outputs": []
    },
    {
      "cell_type": "code",
      "source": [
        "!mkdir MyFirstFolder_OUT_EDGE\n",
        "!mkdir MySecondFolder_OUT_VERT"
      ],
      "metadata": {
        "id": "YYI14Hbh5ErO"
      },
      "id": "YYI14Hbh5ErO",
      "execution_count": 8,
      "outputs": []
    },
    {
      "cell_type": "code",
      "source": [
        "df_edge = spark.readStream.format(\"parquet\") \\\n",
        "    .schema(edgeSchema) \\\n",
        "    .load(\"/content/MyFirstFolder\")"
      ],
      "metadata": {
        "id": "vZMpK_FLvKCq"
      },
      "id": "vZMpK_FLvKCq",
      "execution_count": 9,
      "outputs": []
    },
    {
      "cell_type": "code",
      "source": [
        "df_vert = spark.readStream.format(\"parquet\") \\\n",
        "    .schema(vertSchema) \\\n",
        "    .load(\"/content/MySecondFolder\")"
      ],
      "metadata": {
        "id": "HeD9ePlSydrZ"
      },
      "id": "HeD9ePlSydrZ",
      "execution_count": 10,
      "outputs": []
    },
    {
      "cell_type": "code",
      "source": [
        "df_edge_cat = df_edge.withColumn(\"delay_category\", when(col(\"delay\") < 0, \"Early\"). \\\n",
        "                        when(col(\"delay\") > 0, \"Late\"). \\\n",
        "                        when(col(\"delay\") == 0, \"OnTime\") )"
      ],
      "metadata": {
        "id": "O9AX-Ikn0ad9"
      },
      "id": "O9AX-Ikn0ad9",
      "execution_count": 11,
      "outputs": []
    },
    {
      "cell_type": "code",
      "source": [
        "df_vert_rm = df_vert.filter(col(\"State\") != \"\")"
      ],
      "metadata": {
        "id": "QkCSJkZr2QFT"
      },
      "id": "QkCSJkZr2QFT",
      "execution_count": 12,
      "outputs": []
    },
    {
      "cell_type": "code",
      "source": [
        "writer_edge = df_edge.writeStream.outputMode(\"append\") \\\n",
        "    .format(\"parquet\")  \\\n",
        "    .option(\"path\", \"/content/MyFirstFolder_OUT_EDGE\") \\\n",
        "    .option(\"checkpointLocation\", \"chkpnt1\") \\\n",
        "    .trigger(processingTime='4 seconds')"
      ],
      "metadata": {
        "id": "jWDu1Vc-3nPE"
      },
      "id": "jWDu1Vc-3nPE",
      "execution_count": 13,
      "outputs": []
    },
    {
      "cell_type": "code",
      "source": [
        "writer_vert = df_vert.writeStream.outputMode(\"append\") \\\n",
        "    .format(\"parquet\")  \\\n",
        "    .option(\"path\", \"/content/MySecondFolder_OUT_VERT\") \\\n",
        "    .option(\"checkpointLocation\", \"chkpnt2\") \\\n",
        "    .trigger(processingTime='4 seconds')"
      ],
      "metadata": {
        "id": "qUg2usYF5QHd"
      },
      "id": "qUg2usYF5QHd",
      "execution_count": 14,
      "outputs": []
    },
    {
      "cell_type": "code",
      "source": [
        "query_edge = writer_edge.start()"
      ],
      "metadata": {
        "id": "tg22GNcL560C"
      },
      "id": "tg22GNcL560C",
      "execution_count": 15,
      "outputs": []
    },
    {
      "cell_type": "code",
      "source": [
        "query_edge.stop()"
      ],
      "metadata": {
        "id": "Zp2-e6Tu6HzF"
      },
      "id": "Zp2-e6Tu6HzF",
      "execution_count": 16,
      "outputs": []
    },
    {
      "cell_type": "code",
      "source": [
        "query_vert = writer_vert.start()\n"
      ],
      "metadata": {
        "id": "hsksxeS9710S"
      },
      "id": "hsksxeS9710S",
      "execution_count": 17,
      "outputs": []
    },
    {
      "cell_type": "code",
      "source": [
        "query_vert.stop()"
      ],
      "metadata": {
        "id": "PUSZDSyj8B46"
      },
      "id": "PUSZDSyj8B46",
      "execution_count": 18,
      "outputs": []
    },
    {
      "cell_type": "code",
      "source": [
        "df_edge_static = spark.read.format(\"parquet\") \\\n",
        "    .schema(edgeSchema) \\\n",
        "    .load(\"/content/MyFirstFolder_OUT_EDGE\")"
      ],
      "metadata": {
        "id": "3M7F_sYl8SLs"
      },
      "id": "3M7F_sYl8SLs",
      "execution_count": 19,
      "outputs": []
    },
    {
      "cell_type": "code",
      "source": [
        "df_edge_static.printSchema()"
      ],
      "metadata": {
        "colab": {
          "base_uri": "https://localhost:8080/"
        },
        "id": "mhLH6YDl9a5M",
        "outputId": "b35a825b-26fa-477c-be8b-d9daf5c8a117"
      },
      "id": "mhLH6YDl9a5M",
      "execution_count": 20,
      "outputs": [
        {
          "output_type": "stream",
          "name": "stdout",
          "text": [
            "root\n",
            " |-- tripid: integer (nullable = true)\n",
            " |-- delay: integer (nullable = true)\n",
            " |-- distance: integer (nullable = true)\n",
            " |-- src: string (nullable = true)\n",
            " |-- dst: string (nullable = true)\n",
            "\n"
          ]
        }
      ]
    },
    {
      "cell_type": "code",
      "source": [
        "df_edge_static.show()"
      ],
      "metadata": {
        "colab": {
          "base_uri": "https://localhost:8080/"
        },
        "id": "5J-1jOiYGo_p",
        "outputId": "22ca6318-d9e5-4cd4-fa3e-eb876ae504d3"
      },
      "id": "5J-1jOiYGo_p",
      "execution_count": 23,
      "outputs": [
        {
          "output_type": "stream",
          "name": "stdout",
          "text": [
            "+-------+-----+--------+---+---+--------------+\n",
            "| tripid|delay|distance|src|dst|delay_category|\n",
            "+-------+-----+--------+---+---+--------------+\n",
            "|1010630|  -10|     928|RSW|EWR|         Early|\n",
            "|1021029|   87|     974|RSW|ORD|          Late|\n",
            "|1021346|    0|     928|RSW|EWR|        OnTime|\n",
            "|1021044|   18|     928|RSW|EWR|          Late|\n",
            "|1021730|   29|     748|RSW|IAH|          Late|\n",
            "|1020535|  605|     974|RSW|ORD|          Late|\n",
            "|1021820|   71|     974|RSW|ORD|          Late|\n",
            "|1021743|    0|     928|RSW|EWR|        OnTime|\n",
            "|1022017|    0|     928|RSW|EWR|        OnTime|\n",
            "|1020600|   -2|     748|RSW|IAH|         Early|\n",
            "|1021214|   29|     891|RSW|CLE|          Late|\n",
            "|1020630|   -5|     928|RSW|EWR|         Early|\n",
            "|1031029|   13|     974|RSW|ORD|          Late|\n",
            "|1031346|  279|     928|RSW|EWR|          Late|\n",
            "|1031740|   29|     748|RSW|IAH|          Late|\n",
            "|1030535|    0|     974|RSW|ORD|        OnTime|\n",
            "|1031808|   -3|     974|RSW|ORD|         Early|\n",
            "|1031516|   -2|    1396|RSW|DEN|         Early|\n",
            "|1032017|   14|     928|RSW|EWR|          Late|\n",
            "|1031214|   17|     891|RSW|CLE|          Late|\n",
            "+-------+-----+--------+---+---+--------------+\n",
            "only showing top 20 rows\n",
            "\n"
          ]
        }
      ]
    },
    {
      "cell_type": "code",
      "source": [
        "df_vert_static = spark.read.format(\"parquet\") \\\n",
        "    .schema(vertSchema) \\\n",
        "    .load(\"/content/MySecondFolder_OUT_VERT\")"
      ],
      "metadata": {
        "id": "36wpih4w8_iS"
      },
      "id": "36wpih4w8_iS",
      "execution_count": 24,
      "outputs": []
    },
    {
      "cell_type": "code",
      "source": [
        "df_vert_static.show()"
      ],
      "metadata": {
        "colab": {
          "base_uri": "https://localhost:8080/"
        },
        "id": "xZUoR6QvG6LS",
        "outputId": "4ee1a9bc-c629-4299-820a-345d324b694c"
      },
      "id": "xZUoR6QvG6LS",
      "execution_count": 29,
      "outputs": [
        {
          "output_type": "stream",
          "name": "stdout",
          "text": [
            "+---+-------------+-----+-------+\n",
            "| id|         City|State|Country|\n",
            "+---+-------------+-----+-------+\n",
            "|ABE|    Allentown|   PA|    USA|\n",
            "|ABI|      Abilene|   TX|    USA|\n",
            "|ABQ|  Albuquerque|   NM|    USA|\n",
            "|ABR|     Aberdeen|   SD|    USA|\n",
            "|ABY|       Albany|   GA|    USA|\n",
            "|ACK|    Nantucket|   MA|    USA|\n",
            "|ACT|         Waco|   TX|    USA|\n",
            "|ACV|       Eureka|   CA|    USA|\n",
            "|ACY|Atlantic City|   NJ|    USA|\n",
            "|ADQ|       Kodiak|   AK|    USA|\n",
            "|AEX|   Alexandria|   LA|    USA|\n",
            "|AGS|      Augusta|   GA|    USA|\n",
            "|AHN|       Athens|   GA|    USA|\n",
            "|AIA|     Alliance|   NE|    USA|\n",
            "|AKN|  King Salmon|   AK|    USA|\n",
            "|ALB|       Albany|   NY|    USA|\n",
            "|ALO|     Waterloo|   IA|    USA|\n",
            "|ALS|      Alamosa|   CO|    USA|\n",
            "|ALW|  Walla Walla|   WA|    USA|\n",
            "|AMA|     Amarillo|   TX|    USA|\n",
            "+---+-------------+-----+-------+\n",
            "only showing top 20 rows\n",
            "\n"
          ]
        }
      ]
    },
    {
      "cell_type": "code",
      "source": [
        "graph = GraphFrame(df_vert_static, df_edge_static)"
      ],
      "metadata": {
        "id": "LE_-p6Ly9w6e"
      },
      "id": "LE_-p6Ly9w6e",
      "execution_count": 30,
      "outputs": []
    },
    {
      "cell_type": "code",
      "source": [
        "ranks = graph.pageRank(maxIter=5)\n",
        "results = ranks.vertices\n",
        "results.show()"
      ],
      "metadata": {
        "colab": {
          "base_uri": "https://localhost:8080/"
        },
        "id": "YhjnLs7IImVs",
        "outputId": "ae655cb3-8306-4c5e-efca-58c8a7b4bcd5"
      },
      "id": "YhjnLs7IImVs",
      "execution_count": 32,
      "outputs": [
        {
          "output_type": "stream",
          "name": "stdout",
          "text": [
            "+---+-------------+-----+-------+-------------------+\n",
            "| id|         City|State|Country|           pagerank|\n",
            "+---+-------------+-----+-------+-------------------+\n",
            "|YUY|Rouyn-Noranda|   PQ| Canada| 0.2814969239277225|\n",
            "|MLS|   Miles City|   MT|    USA| 0.2814969239277225|\n",
            "|BTM|        Butte|   MT|    USA|0.33736459210901926|\n",
            "|SCE|State College|   PA|    USA|0.32687029830292075|\n",
            "|OGS|   Ogdensburg|   NY|    USA| 0.2814969239277225|\n",
            "|ATW|     Appleton|   WI|    USA| 0.4358828773204816|\n",
            "|ALO|     Waterloo|   IA|    USA| 0.3266002186935446|\n",
            "|HTS|   Huntington|   WV|    USA| 0.2814969239277225|\n",
            "|PNS|    Pensacola|   FL|    USA| 0.7794786797678428|\n",
            "|YVR|    Vancouver|   BC| Canada| 0.2814969239277225|\n",
            "|YAK|      Yakutat|   AK|    USA| 0.7775114233416804|\n",
            "|DLG|   Dillingham|   AK|    USA| 0.2814969239277225|\n",
            "|SNA|Orange County|   CA|    USA|  2.631315509431739|\n",
            "|BHB|   Bar Harbor|   ME|    USA| 0.2814969239277225|\n",
            "|IMT|Iron Mountain|   MI|    USA|0.30393461597531574|\n",
            "|MFR|      Medford|   OR|    USA| 0.4890486698924556|\n",
            "|TPA|        Tampa|   FL|    USA|  4.404147286466935|\n",
            "|ABI|      Abilene|   TX|    USA| 0.4612345575995332|\n",
            "|ORF|      Norfolk|   VA|    USA| 0.9501519801329565|\n",
            "|YYB|    North Bay|   ON| Canada| 0.2814969239277225|\n",
            "+---+-------------+-----+-------+-------------------+\n",
            "only showing top 20 rows\n",
            "\n"
          ]
        }
      ]
    },
    {
      "cell_type": "code",
      "source": [
        "results_ranked = results.orderBy(\"pagerank\", ascending=False).limit(10)\n",
        "results_ranked.show()"
      ],
      "metadata": {
        "colab": {
          "base_uri": "https://localhost:8080/"
        },
        "id": "jIqSdPjzLZkZ",
        "outputId": "07f64fa4-a124-4a57-cf50-a7d53f1c0526"
      },
      "id": "jIqSdPjzLZkZ",
      "execution_count": 33,
      "outputs": [
        {
          "output_type": "stream",
          "name": "stdout",
          "text": [
            "+---+--------------+-----+-------+------------------+\n",
            "| id|          City|State|Country|          pagerank|\n",
            "+---+--------------+-----+-------+------------------+\n",
            "|ATL|       Atlanta|   GA|    USA|31.402169285067313|\n",
            "|DFW|        Dallas|   TX|    USA| 22.76415219751248|\n",
            "|ORD|       Chicago|   IL|    USA| 21.83241348762772|\n",
            "|DEN|        Denver|   CO|    USA|16.026921025779515|\n",
            "|LAX|   Los Angeles|   CA|    USA|14.358865452635795|\n",
            "|IAH|       Houston|   TX|    USA|13.229634347806075|\n",
            "|SFO| San Francisco|   CA|    USA|11.322517232690489|\n",
            "|PHX|       Phoenix|   AZ|    USA|10.852423159730376|\n",
            "|SLC|Salt Lake City|   UT|    USA| 9.622759351860472|\n",
            "|LAS|     Las Vegas|   NV|    USA| 8.778471071473987|\n",
            "+---+--------------+-----+-------+------------------+\n",
            "\n"
          ]
        }
      ]
    },
    {
      "cell_type": "code",
      "source": [
        "df_edge_static.printSchema()"
      ],
      "metadata": {
        "colab": {
          "base_uri": "https://localhost:8080/"
        },
        "id": "rc3Vn4K4MXPI",
        "outputId": "bdd8072e-0b1f-4537-e7b3-ea3909c5ed24"
      },
      "id": "rc3Vn4K4MXPI",
      "execution_count": 91,
      "outputs": [
        {
          "output_type": "stream",
          "name": "stdout",
          "text": [
            "root\n",
            " |-- tripid: integer (nullable = true)\n",
            " |-- delay: integer (nullable = true)\n",
            " |-- distance: integer (nullable = true)\n",
            " |-- src: string (nullable = true)\n",
            " |-- dst: string (nullable = true)\n",
            " |-- delay_category: string (nullable = true)\n",
            "\n"
          ]
        }
      ]
    },
    {
      "cell_type": "markdown",
      "source": [],
      "metadata": {
        "id": "OBangNAuNXQs"
      },
      "id": "OBangNAuNXQs"
    },
    {
      "cell_type": "code",
      "source": [
        "df_edge_staic_int = df_edge_static.withColumn(\"delay_category\", when(col(\"delay_category\") == \"Early\",0). \\\n",
        "                        when(col(\"delay_category\") ==\"Late\",1). \\\n",
        "                        when(col(\"delay_category\") == \"OnTime\",2) )"
      ],
      "metadata": {
        "id": "CZiLIKNhLuy3"
      },
      "id": "CZiLIKNhLuy3",
      "execution_count": 36,
      "outputs": []
    },
    {
      "cell_type": "code",
      "source": [
        "df_edge_staic_int.printSchema()"
      ],
      "metadata": {
        "colab": {
          "base_uri": "https://localhost:8080/"
        },
        "id": "FcHKKO3hNcVW",
        "outputId": "0bc0a206-7aab-45b6-9b50-6f66896690eb"
      },
      "id": "FcHKKO3hNcVW",
      "execution_count": 38,
      "outputs": [
        {
          "output_type": "stream",
          "name": "stdout",
          "text": [
            "root\n",
            " |-- tripid: integer (nullable = true)\n",
            " |-- delay: integer (nullable = true)\n",
            " |-- distance: integer (nullable = true)\n",
            " |-- src: string (nullable = true)\n",
            " |-- dst: string (nullable = true)\n",
            " |-- delay_category: integer (nullable = true)\n",
            "\n"
          ]
        }
      ]
    },
    {
      "cell_type": "code",
      "source": [
        "\n",
        "df_edge_staic_int.select([count(when(col(c).isNull(), c)).alias(c) for c in df_edge_staic_int.columns]\n",
        "   ).show()"
      ],
      "metadata": {
        "colab": {
          "base_uri": "https://localhost:8080/"
        },
        "id": "fpvfxjl_OefL",
        "outputId": "aa6294ba-60e9-4835-a691-cc2d52df54df"
      },
      "id": "fpvfxjl_OefL",
      "execution_count": 41,
      "outputs": [
        {
          "output_type": "stream",
          "name": "stdout",
          "text": [
            "+------+-----+--------+---+---+--------------+\n",
            "|tripid|delay|distance|src|dst|delay_category|\n",
            "+------+-----+--------+---+---+--------------+\n",
            "|     0|    0|       0|  0|  0|             0|\n",
            "+------+-----+--------+---+---+--------------+\n",
            "\n"
          ]
        }
      ]
    },
    {
      "cell_type": "code",
      "source": [
        "df_edge_staic_int = df_edge_staic_int.drop(\"delay\")"
      ],
      "metadata": {
        "id": "SlBzY3W6VCwN"
      },
      "id": "SlBzY3W6VCwN",
      "execution_count": 113,
      "outputs": []
    },
    {
      "cell_type": "code",
      "source": [
        "train_data, test_data = df_edge_staic_int.randomSplit([0.80, 0.20], seed=1234)"
      ],
      "metadata": {
        "id": "bwDskjrmNfZq"
      },
      "id": "bwDskjrmNfZq",
      "execution_count": 93,
      "outputs": []
    },
    {
      "cell_type": "code",
      "source": [
        "stCols = [k for (k,v) in train_data.dtypes if v=='string']\n",
        "stCols"
      ],
      "metadata": {
        "colab": {
          "base_uri": "https://localhost:8080/"
        },
        "id": "DW9UDdRsPmDM",
        "outputId": "571552f1-6005-417f-d841-b372bf00d7df"
      },
      "id": "DW9UDdRsPmDM",
      "execution_count": 94,
      "outputs": [
        {
          "output_type": "execute_result",
          "data": {
            "text/plain": [
              "['src', 'dst']"
            ]
          },
          "metadata": {},
          "execution_count": 94
        }
      ]
    },
    {
      "cell_type": "code",
      "source": [
        "stColsInd = [k + '_ind' for (k,v) in train_data.dtypes if v=='string']\n",
        "stColsInd"
      ],
      "metadata": {
        "colab": {
          "base_uri": "https://localhost:8080/"
        },
        "id": "w2sZvsFrPpu_",
        "outputId": "f90c9242-7dde-4e22-daa3-67f73088a1b8"
      },
      "id": "w2sZvsFrPpu_",
      "execution_count": 95,
      "outputs": [
        {
          "output_type": "execute_result",
          "data": {
            "text/plain": [
              "['src_ind', 'dst_ind']"
            ]
          },
          "metadata": {},
          "execution_count": 95
        }
      ]
    },
    {
      "cell_type": "code",
      "source": [
        "OHEcols = [k + '_OHE' for (k,v) in train_data.dtypes if v=='string']\n",
        "OHEcols"
      ],
      "metadata": {
        "colab": {
          "base_uri": "https://localhost:8080/"
        },
        "id": "58hZD5INPsu1",
        "outputId": "8dd85cd5-7aba-4a24-945d-e4d50e0d858a"
      },
      "id": "58hZD5INPsu1",
      "execution_count": 96,
      "outputs": [
        {
          "output_type": "execute_result",
          "data": {
            "text/plain": [
              "['src_OHE', 'dst_OHE']"
            ]
          },
          "metadata": {},
          "execution_count": 96
        }
      ]
    },
    {
      "cell_type": "code",
      "source": [
        "numcols = [k  for (k,v) in train_data.dtypes if ((v=='int') & (k!='delay_category'))]\n",
        "numcols"
      ],
      "metadata": {
        "colab": {
          "base_uri": "https://localhost:8080/"
        },
        "id": "06vOE3nUPxBK",
        "outputId": "95ec83b0-6ba9-426b-edf6-dd90a86038a9"
      },
      "id": "06vOE3nUPxBK",
      "execution_count": 97,
      "outputs": [
        {
          "output_type": "execute_result",
          "data": {
            "text/plain": [
              "['tripid', 'distance']"
            ]
          },
          "metadata": {},
          "execution_count": 97
        }
      ]
    },
    {
      "cell_type": "code",
      "source": [
        "stind = StringIndexer(inputCols=stCols,outputCols=stColsInd,handleInvalid='skip')"
      ],
      "metadata": {
        "id": "e185k0N1O-cJ"
      },
      "id": "e185k0N1O-cJ",
      "execution_count": 98,
      "outputs": []
    },
    {
      "cell_type": "code",
      "source": [
        "OHE = OneHotEncoder(inputCols=stColsInd,outputCols=OHEcols)"
      ],
      "metadata": {
        "id": "QizPajEgPAI4"
      },
      "id": "QizPajEgPAI4",
      "execution_count": 99,
      "outputs": []
    },
    {
      "cell_type": "code",
      "source": [
        "All_Col = numcols + OHEcols\n",
        "All_Col"
      ],
      "metadata": {
        "colab": {
          "base_uri": "https://localhost:8080/"
        },
        "id": "yI9urdkAP6Kk",
        "outputId": "19a6466d-3722-468a-fbdc-aa8923efde79"
      },
      "id": "yI9urdkAP6Kk",
      "execution_count": 100,
      "outputs": [
        {
          "output_type": "execute_result",
          "data": {
            "text/plain": [
              "['tripid', 'distance', 'src_OHE', 'dst_OHE']"
            ]
          },
          "metadata": {},
          "execution_count": 100
        }
      ]
    },
    {
      "cell_type": "code",
      "source": [
        "vecAssemb = VectorAssembler(inputCols=All_Col,outputCol='features')"
      ],
      "metadata": {
        "id": "9ZUI3hRUPEHa"
      },
      "id": "9ZUI3hRUPEHa",
      "execution_count": 101,
      "outputs": []
    },
    {
      "cell_type": "code",
      "source": [
        "model = RandomForestClassifier(labelCol=\"delay_category\", featuresCol=\"features\")\n"
      ],
      "metadata": {
        "id": "hEZXV0_HPGas"
      },
      "id": "hEZXV0_HPGas",
      "execution_count": 102,
      "outputs": []
    },
    {
      "cell_type": "code",
      "source": [
        "pipeline = Pipeline(stages=[stind, OHE, vecAssemb, model])"
      ],
      "metadata": {
        "id": "TgdeHK9xPI58"
      },
      "id": "TgdeHK9xPI58",
      "execution_count": 103,
      "outputs": []
    },
    {
      "cell_type": "code",
      "source": [
        "model_fitting = pipeline.fit(train_data)"
      ],
      "metadata": {
        "id": "ReRVPpOTSZPj"
      },
      "id": "ReRVPpOTSZPj",
      "execution_count": 104,
      "outputs": []
    },
    {
      "cell_type": "code",
      "source": [
        "predictions = model_fitting.transform(test_data)"
      ],
      "metadata": {
        "id": "Qs3SAdzWSuCz"
      },
      "id": "Qs3SAdzWSuCz",
      "execution_count": 105,
      "outputs": []
    },
    {
      "cell_type": "code",
      "source": [
        "predictions.printSchema()"
      ],
      "metadata": {
        "colab": {
          "base_uri": "https://localhost:8080/"
        },
        "id": "JEPf7Fl9UKoA",
        "outputId": "0e1ed2b6-4890-45c5-b220-414ffd3cb23b"
      },
      "id": "JEPf7Fl9UKoA",
      "execution_count": 106,
      "outputs": [
        {
          "output_type": "stream",
          "name": "stdout",
          "text": [
            "root\n",
            " |-- tripid: integer (nullable = true)\n",
            " |-- distance: integer (nullable = true)\n",
            " |-- src: string (nullable = true)\n",
            " |-- dst: string (nullable = true)\n",
            " |-- delay_category: integer (nullable = true)\n",
            " |-- src_ind: double (nullable = false)\n",
            " |-- dst_ind: double (nullable = false)\n",
            " |-- src_OHE: vector (nullable = true)\n",
            " |-- dst_OHE: vector (nullable = true)\n",
            " |-- features: vector (nullable = true)\n",
            " |-- rawPrediction: vector (nullable = true)\n",
            " |-- probability: vector (nullable = true)\n",
            " |-- prediction: double (nullable = false)\n",
            "\n"
          ]
        }
      ]
    },
    {
      "cell_type": "code",
      "source": [
        "predictions.select(\"features\", \"delay_category\", \"prediction\",\"probability\").show(5)"
      ],
      "metadata": {
        "colab": {
          "base_uri": "https://localhost:8080/"
        },
        "id": "KE19Xi2aURB2",
        "outputId": "e2265b2e-c4d3-4652-d056-361c27ff9aeb"
      },
      "id": "KE19Xi2aURB2",
      "execution_count": 107,
      "outputs": [
        {
          "output_type": "stream",
          "name": "stdout",
          "text": [
            "+--------------------+--------------+----------+--------------------+\n",
            "|            features|delay_category|prediction|         probability|\n",
            "+--------------------+--------------+----------+--------------------+\n",
            "|(558,[0,1,9,257],...|             2|       0.0|[0.47009469483003...|\n",
            "|(558,[0,1,9,278],...|             0|       0.0|[0.46529704420883...|\n",
            "|(558,[0,1,28,256]...|             0|       0.0|[0.47117251419272...|\n",
            "|(558,[0,1,97,258]...|             2|       0.0|[0.46529704420883...|\n",
            "|(558,[0,1,41,260]...|             1|       0.0|[0.46269852225867...|\n",
            "+--------------------+--------------+----------+--------------------+\n",
            "only showing top 5 rows\n",
            "\n"
          ]
        }
      ]
    },
    {
      "cell_type": "code",
      "source": [
        "evaluator_f1 = MulticlassClassificationEvaluator(predictionCol='prediction',\n",
        "                                              labelCol='delay_category', metricName='f1')"
      ],
      "metadata": {
        "id": "ecyT7yoVOM4F"
      },
      "id": "ecyT7yoVOM4F",
      "execution_count": 108,
      "outputs": []
    },
    {
      "cell_type": "code",
      "source": [
        "evaluator_accuracy = MulticlassClassificationEvaluator(predictionCol='prediction',\n",
        "                                              labelCol='delay_category', metricName='accuracy')"
      ],
      "metadata": {
        "id": "EDJh-siUTMQJ"
      },
      "id": "EDJh-siUTMQJ",
      "execution_count": 109,
      "outputs": []
    },
    {
      "cell_type": "code",
      "source": [
        "f1 = evaluator_f1.evaluate(predictions)\n",
        "print(\"f1= \",f1)"
      ],
      "metadata": {
        "colab": {
          "base_uri": "https://localhost:8080/"
        },
        "id": "1m2iuT6kTgA4",
        "outputId": "369d9bd3-9d6a-42f1-e68d-147ee3d1cd23"
      },
      "id": "1m2iuT6kTgA4",
      "execution_count": 110,
      "outputs": [
        {
          "output_type": "stream",
          "name": "stdout",
          "text": [
            "f1=  0.3885913156508042\n"
          ]
        }
      ]
    },
    {
      "cell_type": "code",
      "source": [
        "accuracy = evaluator_accuracy.evaluate(predictions)\n",
        "print(\"accuracy= \",accuracy)"
      ],
      "metadata": {
        "colab": {
          "base_uri": "https://localhost:8080/"
        },
        "id": "aeDChdRtTgxw",
        "outputId": "e313df93-c692-4a47-86b2-6ef2690d369e"
      },
      "id": "aeDChdRtTgxw",
      "execution_count": 111,
      "outputs": [
        {
          "output_type": "stream",
          "name": "stdout",
          "text": [
            "accuracy=  0.5017819215954498\n"
          ]
        }
      ]
    },
    {
      "cell_type": "code",
      "source": [],
      "metadata": {
        "id": "qK57J6m3U4Rb"
      },
      "id": "qK57J6m3U4Rb",
      "execution_count": 111,
      "outputs": []
    }
  ],
  "metadata": {
    "kernelspec": {
      "display_name": "Python 3 (ipykernel)",
      "language": "python",
      "name": "python3"
    },
    "language_info": {
      "codemirror_mode": {
        "name": "ipython",
        "version": 3
      },
      "file_extension": ".py",
      "mimetype": "text/x-python",
      "name": "python",
      "nbconvert_exporter": "python",
      "pygments_lexer": "ipython3",
      "version": "3.11.4"
    },
    "colab": {
      "provenance": []
    }
  },
  "nbformat": 4,
  "nbformat_minor": 5
}