{
 "cells": [
  {
   "cell_type": "code",
   "execution_count": 2,
   "id": "ed6a4a4c",
   "metadata": {},
   "outputs": [],
   "source": [
    "df = spark.read.format('parquet').load('sf-airbnb-clean.parquet/')"
   ]
  },
  {
   "cell_type": "code",
   "execution_count": 3,
   "id": "ea5a9527",
   "metadata": {},
   "outputs": [
    {
     "name": "stdout",
     "output_type": "stream",
     "text": [
      "root\n",
      " |-- host_is_superhost: string (nullable = true)\n",
      " |-- cancellation_policy: string (nullable = true)\n",
      " |-- instant_bookable: string (nullable = true)\n",
      " |-- host_total_listings_count: double (nullable = true)\n",
      " |-- neighbourhood_cleansed: string (nullable = true)\n",
      " |-- latitude: double (nullable = true)\n",
      " |-- longitude: double (nullable = true)\n",
      " |-- property_type: string (nullable = true)\n",
      " |-- room_type: string (nullable = true)\n",
      " |-- accommodates: double (nullable = true)\n",
      " |-- bathrooms: double (nullable = true)\n",
      " |-- bedrooms: double (nullable = true)\n",
      " |-- beds: double (nullable = true)\n",
      " |-- bed_type: string (nullable = true)\n",
      " |-- minimum_nights: double (nullable = true)\n",
      " |-- number_of_reviews: double (nullable = true)\n",
      " |-- review_scores_rating: double (nullable = true)\n",
      " |-- review_scores_accuracy: double (nullable = true)\n",
      " |-- review_scores_cleanliness: double (nullable = true)\n",
      " |-- review_scores_checkin: double (nullable = true)\n",
      " |-- review_scores_communication: double (nullable = true)\n",
      " |-- review_scores_location: double (nullable = true)\n",
      " |-- review_scores_value: double (nullable = true)\n",
      " |-- price: double (nullable = true)\n",
      " |-- bedrooms_na: double (nullable = true)\n",
      " |-- bathrooms_na: double (nullable = true)\n",
      " |-- beds_na: double (nullable = true)\n",
      " |-- review_scores_rating_na: double (nullable = true)\n",
      " |-- review_scores_accuracy_na: double (nullable = true)\n",
      " |-- review_scores_cleanliness_na: double (nullable = true)\n",
      " |-- review_scores_checkin_na: double (nullable = true)\n",
      " |-- review_scores_communication_na: double (nullable = true)\n",
      " |-- review_scores_location_na: double (nullable = true)\n",
      " |-- review_scores_value_na: double (nullable = true)\n",
      "\n"
     ]
    }
   ],
   "source": [
    "df.printSchema()"
   ]
  },
  {
   "cell_type": "code",
   "execution_count": 6,
   "id": "b909c44b",
   "metadata": {},
   "outputs": [
    {
     "name": "stdout",
     "output_type": "stream",
     "text": [
      "+--------+---------+-----+\n",
      "|bedrooms|bathrooms|price|\n",
      "+--------+---------+-----+\n",
      "|     1.0|      1.0|170.0|\n",
      "|     2.0|      1.0|235.0|\n",
      "|     1.0|      4.0| 65.0|\n",
      "|     1.0|      4.0| 65.0|\n",
      "|     2.0|      1.5|785.0|\n",
      "|     2.0|      1.0|255.0|\n",
      "|     1.0|      1.0|139.0|\n",
      "|     1.0|      1.0|135.0|\n",
      "|     2.0|      1.0|265.0|\n",
      "|     3.0|      1.0|177.0|\n",
      "|     3.0|      2.0|194.0|\n",
      "|     1.0|      1.5|139.0|\n",
      "|     1.0|      4.0| 85.0|\n",
      "|     1.0|      3.0| 85.0|\n",
      "|     1.0|      1.0| 79.0|\n",
      "|     2.0|      1.0|136.0|\n",
      "|     1.0|      1.0|215.0|\n",
      "|     2.0|      2.0|450.0|\n",
      "|     0.0|      1.0|107.0|\n",
      "|     1.0|      1.0|110.0|\n",
      "+--------+---------+-----+\n",
      "only showing top 20 rows\n",
      "\n"
     ]
    }
   ],
   "source": [
    "df.select(['bedrooms','bathrooms','price']).show()"
   ]
  },
  {
   "cell_type": "code",
   "execution_count": 29,
   "id": "df2885e0",
   "metadata": {},
   "outputs": [],
   "source": [
    "df2 = df.drop('host_is_superhost')"
   ]
  },
  {
   "cell_type": "code",
   "execution_count": 30,
   "id": "0508b094",
   "metadata": {},
   "outputs": [
    {
     "name": "stdout",
     "output_type": "stream",
     "text": [
      "root\n",
      " |-- cancellation_policy: string (nullable = true)\n",
      " |-- instant_bookable: string (nullable = true)\n",
      " |-- host_total_listings_count: double (nullable = true)\n",
      " |-- neighbourhood_cleansed: string (nullable = true)\n",
      " |-- latitude: double (nullable = true)\n",
      " |-- longitude: double (nullable = true)\n",
      " |-- property_type: string (nullable = true)\n",
      " |-- room_type: string (nullable = true)\n",
      " |-- accommodates: double (nullable = true)\n",
      " |-- bathrooms: double (nullable = true)\n",
      " |-- bedrooms: double (nullable = true)\n",
      " |-- beds: double (nullable = true)\n",
      " |-- bed_type: string (nullable = true)\n",
      " |-- minimum_nights: double (nullable = true)\n",
      " |-- number_of_reviews: double (nullable = true)\n",
      " |-- review_scores_rating: double (nullable = true)\n",
      " |-- review_scores_accuracy: double (nullable = true)\n",
      " |-- review_scores_cleanliness: double (nullable = true)\n",
      " |-- review_scores_checkin: double (nullable = true)\n",
      " |-- review_scores_communication: double (nullable = true)\n",
      " |-- review_scores_location: double (nullable = true)\n",
      " |-- review_scores_value: double (nullable = true)\n",
      " |-- price: double (nullable = true)\n",
      " |-- bedrooms_na: double (nullable = true)\n",
      " |-- bathrooms_na: double (nullable = true)\n",
      " |-- beds_na: double (nullable = true)\n",
      " |-- review_scores_rating_na: double (nullable = true)\n",
      " |-- review_scores_accuracy_na: double (nullable = true)\n",
      " |-- review_scores_cleanliness_na: double (nullable = true)\n",
      " |-- review_scores_checkin_na: double (nullable = true)\n",
      " |-- review_scores_communication_na: double (nullable = true)\n",
      " |-- review_scores_location_na: double (nullable = true)\n",
      " |-- review_scores_value_na: double (nullable = true)\n",
      "\n"
     ]
    }
   ],
   "source": [
    "df2.printSchema()"
   ]
  },
  {
   "cell_type": "code",
   "execution_count": 7,
   "id": "bb7a914f",
   "metadata": {},
   "outputs": [],
   "source": [
    "trainDF, testDF = df.randomSplit([0.7,0.3],seed=44)"
   ]
  },
  {
   "cell_type": "code",
   "execution_count": 9,
   "id": "3b572bfe",
   "metadata": {},
   "outputs": [
    {
     "name": "stderr",
     "output_type": "stream",
     "text": [
      "24/05/29 14:43:34 WARN SparkStringUtils: Truncated the string representation of a plan since it was too large. This behavior can be adjusted by setting 'spark.sql.debug.maxToStringFields'.\n",
      "                                                                                \r"
     ]
    }
   ],
   "source": [
    "trainDF.write.parquet('TrainingData')"
   ]
  },
  {
   "cell_type": "code",
   "execution_count": 10,
   "id": "e85b3c09",
   "metadata": {},
   "outputs": [],
   "source": [
    "testDF.write.parquet('TestData')"
   ]
  },
  {
   "cell_type": "code",
   "execution_count": 11,
   "id": "3d328864",
   "metadata": {},
   "outputs": [],
   "source": [
    "from pyspark.ml.feature import VectorAssembler"
   ]
  },
  {
   "cell_type": "code",
   "execution_count": 12,
   "id": "61311c19",
   "metadata": {},
   "outputs": [],
   "source": [
    "vec1 = VectorAssembler(inputCols=['bedrooms','bathrooms'],outputCol='features')"
   ]
  },
  {
   "cell_type": "code",
   "execution_count": 14,
   "id": "03633535",
   "metadata": {},
   "outputs": [],
   "source": [
    "trainDF_Vec = vec1.transform(trainDF)"
   ]
  },
  {
   "cell_type": "code",
   "execution_count": 15,
   "id": "fef83e10",
   "metadata": {},
   "outputs": [
    {
     "name": "stdout",
     "output_type": "stream",
     "text": [
      "root\n",
      " |-- host_is_superhost: string (nullable = true)\n",
      " |-- cancellation_policy: string (nullable = true)\n",
      " |-- instant_bookable: string (nullable = true)\n",
      " |-- host_total_listings_count: double (nullable = true)\n",
      " |-- neighbourhood_cleansed: string (nullable = true)\n",
      " |-- latitude: double (nullable = true)\n",
      " |-- longitude: double (nullable = true)\n",
      " |-- property_type: string (nullable = true)\n",
      " |-- room_type: string (nullable = true)\n",
      " |-- accommodates: double (nullable = true)\n",
      " |-- bathrooms: double (nullable = true)\n",
      " |-- bedrooms: double (nullable = true)\n",
      " |-- beds: double (nullable = true)\n",
      " |-- bed_type: string (nullable = true)\n",
      " |-- minimum_nights: double (nullable = true)\n",
      " |-- number_of_reviews: double (nullable = true)\n",
      " |-- review_scores_rating: double (nullable = true)\n",
      " |-- review_scores_accuracy: double (nullable = true)\n",
      " |-- review_scores_cleanliness: double (nullable = true)\n",
      " |-- review_scores_checkin: double (nullable = true)\n",
      " |-- review_scores_communication: double (nullable = true)\n",
      " |-- review_scores_location: double (nullable = true)\n",
      " |-- review_scores_value: double (nullable = true)\n",
      " |-- price: double (nullable = true)\n",
      " |-- bedrooms_na: double (nullable = true)\n",
      " |-- bathrooms_na: double (nullable = true)\n",
      " |-- beds_na: double (nullable = true)\n",
      " |-- review_scores_rating_na: double (nullable = true)\n",
      " |-- review_scores_accuracy_na: double (nullable = true)\n",
      " |-- review_scores_cleanliness_na: double (nullable = true)\n",
      " |-- review_scores_checkin_na: double (nullable = true)\n",
      " |-- review_scores_communication_na: double (nullable = true)\n",
      " |-- review_scores_location_na: double (nullable = true)\n",
      " |-- review_scores_value_na: double (nullable = true)\n",
      " |-- features: vector (nullable = true)\n",
      "\n"
     ]
    }
   ],
   "source": [
    "trainDF_Vec.printSchema()"
   ]
  },
  {
   "cell_type": "code",
   "execution_count": 17,
   "id": "df0acbcd",
   "metadata": {},
   "outputs": [
    {
     "data": {
      "text/html": [
       "<style>pre { white-space: pre !important; }</style>"
      ],
      "text/plain": [
       "<IPython.core.display.HTML object>"
      ]
     },
     "metadata": {},
     "output_type": "display_data"
    }
   ],
   "source": [
    "from IPython.display import display, HTML\n",
    "display(HTML(\"<style>pre { white-space: pre !important; }</style>\"))"
   ]
  },
  {
   "cell_type": "code",
   "execution_count": 18,
   "id": "98730327",
   "metadata": {
    "scrolled": false
   },
   "outputs": [
    {
     "name": "stdout",
     "output_type": "stream",
     "text": [
      "+--------+---------+---------+-----+\n",
      "|bedrooms|bathrooms| features|price|\n",
      "+--------+---------+---------+-----+\n",
      "|     1.0|      1.0|[1.0,1.0]| 85.0|\n",
      "|     3.0|      3.0|[3.0,3.0]|250.0|\n",
      "|     1.0|      1.0|[1.0,1.0]| 45.0|\n",
      "|     1.0|      1.0|[1.0,1.0]| 70.0|\n",
      "|     2.0|      1.0|[2.0,1.0]|220.0|\n",
      "|     1.0|      1.0|[1.0,1.0]|128.0|\n",
      "|     1.0|      1.0|[1.0,1.0]|110.0|\n",
      "|     1.0|      1.0|[1.0,1.0]|130.0|\n",
      "|     1.0|      1.0|[1.0,1.0]|250.0|\n",
      "|     3.0|      2.0|[3.0,2.0]|350.0|\n",
      "|     1.0|      1.0|[1.0,1.0]|159.0|\n",
      "|     2.0|      2.0|[2.0,2.0]|200.0|\n",
      "|     1.0|      2.0|[1.0,2.0]|250.0|\n",
      "|     2.0|      1.0|[2.0,1.0]|299.0|\n",
      "|     2.0|      1.0|[2.0,1.0]|250.0|\n",
      "|     1.0|      1.5|[1.0,1.5]| 95.0|\n",
      "|     3.0|      2.5|[3.0,2.5]|500.0|\n",
      "|     2.0|      3.0|[2.0,3.0]|199.0|\n",
      "|     1.0|      1.0|[1.0,1.0]| 99.0|\n",
      "|     1.0|      1.0|[1.0,1.0]|100.0|\n",
      "+--------+---------+---------+-----+\n",
      "only showing top 20 rows\n",
      "\n"
     ]
    }
   ],
   "source": [
    "trainDF_Vec.select('bedrooms','bathrooms','features','price').show()"
   ]
  },
  {
   "cell_type": "code",
   "execution_count": 22,
   "id": "71dc5c2b",
   "metadata": {},
   "outputs": [
    {
     "data": {
      "text/plain": [
       "DataFrame[host_is_superhost: string, cancellation_policy: string, instant_bookable: string, host_total_listings_count: double, neighbourhood_cleansed: string, latitude: double, longitude: double, property_type: string, room_type: string, accommodates: double, bathrooms: double, bedrooms: double, beds: double, bed_type: string, minimum_nights: double, number_of_reviews: double, review_scores_rating: double, review_scores_accuracy: double, review_scores_cleanliness: double, review_scores_checkin: double, review_scores_communication: double, review_scores_location: double, review_scores_value: double, price: double, bedrooms_na: double, bathrooms_na: double, beds_na: double, review_scores_rating_na: double, review_scores_accuracy_na: double, review_scores_cleanliness_na: double, review_scores_checkin_na: double, review_scores_communication_na: double, review_scores_location_na: double, review_scores_value_na: double]"
      ]
     },
     "execution_count": 22,
     "metadata": {},
     "output_type": "execute_result"
    }
   ],
   "source": [
    "trainDF.cache()"
   ]
  },
  {
   "cell_type": "code",
   "execution_count": 23,
   "id": "3445b6ba",
   "metadata": {},
   "outputs": [
    {
     "data": {
      "text/plain": [
       "DataFrame[host_is_superhost: string, cancellation_policy: string, instant_bookable: string, host_total_listings_count: double, neighbourhood_cleansed: string, latitude: double, longitude: double, property_type: string, room_type: string, accommodates: double, bathrooms: double, bedrooms: double, beds: double, bed_type: string, minimum_nights: double, number_of_reviews: double, review_scores_rating: double, review_scores_accuracy: double, review_scores_cleanliness: double, review_scores_checkin: double, review_scores_communication: double, review_scores_location: double, review_scores_value: double, price: double, bedrooms_na: double, bathrooms_na: double, beds_na: double, review_scores_rating_na: double, review_scores_accuracy_na: double, review_scores_cleanliness_na: double, review_scores_checkin_na: double, review_scores_communication_na: double, review_scores_location_na: double, review_scores_value_na: double]"
      ]
     },
     "execution_count": 23,
     "metadata": {},
     "output_type": "execute_result"
    }
   ],
   "source": [
    "testDF.cache()"
   ]
  },
  {
   "cell_type": "code",
   "execution_count": 19,
   "id": "34c77e54",
   "metadata": {},
   "outputs": [],
   "source": [
    "from pyspark.ml.regression import LinearRegression"
   ]
  },
  {
   "cell_type": "code",
   "execution_count": 20,
   "id": "49b67c97",
   "metadata": {},
   "outputs": [],
   "source": [
    "lr = LinearRegression(featuresCol='features',labelCol='price')"
   ]
  },
  {
   "cell_type": "code",
   "execution_count": 21,
   "id": "42f77135",
   "metadata": {},
   "outputs": [
    {
     "data": {
      "text/plain": [
       "LinearRegression_9957ac2d1030"
      ]
     },
     "execution_count": 21,
     "metadata": {},
     "output_type": "execute_result"
    }
   ],
   "source": [
    "lr"
   ]
  },
  {
   "cell_type": "code",
   "execution_count": 24,
   "id": "ab5d7bd1",
   "metadata": {},
   "outputs": [
    {
     "name": "stderr",
     "output_type": "stream",
     "text": [
      "24/05/29 15:03:44 WARN Instrumentation: [925ca1b7] regParam is zero, which might cause numerical instability and overfitting.\n",
      "24/05/29 15:03:44 WARN InstanceBuilder: Failed to load implementation from:dev.ludovic.netlib.blas.JNIBLAS\n",
      "24/05/29 15:03:44 WARN InstanceBuilder: Failed to load implementation from:dev.ludovic.netlib.blas.VectorBLAS\n",
      "24/05/29 15:03:45 WARN InstanceBuilder: Failed to load implementation from:dev.ludovic.netlib.lapack.JNILAPACK\n"
     ]
    }
   ],
   "source": [
    "lrModel = lr.fit(trainDF_Vec)"
   ]
  },
  {
   "cell_type": "code",
   "execution_count": 25,
   "id": "8b408f8e",
   "metadata": {},
   "outputs": [],
   "source": [
    "testDF_Vec = vec1.transform(testDF)"
   ]
  },
  {
   "cell_type": "code",
   "execution_count": 27,
   "id": "712e2e66",
   "metadata": {},
   "outputs": [],
   "source": [
    "pred = lrModel.transform(testDF_Vec)"
   ]
  },
  {
   "cell_type": "code",
   "execution_count": 28,
   "id": "e57c031c",
   "metadata": {},
   "outputs": [
    {
     "name": "stdout",
     "output_type": "stream",
     "text": [
      "root\n",
      " |-- host_is_superhost: string (nullable = true)\n",
      " |-- cancellation_policy: string (nullable = true)\n",
      " |-- instant_bookable: string (nullable = true)\n",
      " |-- host_total_listings_count: double (nullable = true)\n",
      " |-- neighbourhood_cleansed: string (nullable = true)\n",
      " |-- latitude: double (nullable = true)\n",
      " |-- longitude: double (nullable = true)\n",
      " |-- property_type: string (nullable = true)\n",
      " |-- room_type: string (nullable = true)\n",
      " |-- accommodates: double (nullable = true)\n",
      " |-- bathrooms: double (nullable = true)\n",
      " |-- bedrooms: double (nullable = true)\n",
      " |-- beds: double (nullable = true)\n",
      " |-- bed_type: string (nullable = true)\n",
      " |-- minimum_nights: double (nullable = true)\n",
      " |-- number_of_reviews: double (nullable = true)\n",
      " |-- review_scores_rating: double (nullable = true)\n",
      " |-- review_scores_accuracy: double (nullable = true)\n",
      " |-- review_scores_cleanliness: double (nullable = true)\n",
      " |-- review_scores_checkin: double (nullable = true)\n",
      " |-- review_scores_communication: double (nullable = true)\n",
      " |-- review_scores_location: double (nullable = true)\n",
      " |-- review_scores_value: double (nullable = true)\n",
      " |-- price: double (nullable = true)\n",
      " |-- bedrooms_na: double (nullable = true)\n",
      " |-- bathrooms_na: double (nullable = true)\n",
      " |-- beds_na: double (nullable = true)\n",
      " |-- review_scores_rating_na: double (nullable = true)\n",
      " |-- review_scores_accuracy_na: double (nullable = true)\n",
      " |-- review_scores_cleanliness_na: double (nullable = true)\n",
      " |-- review_scores_checkin_na: double (nullable = true)\n",
      " |-- review_scores_communication_na: double (nullable = true)\n",
      " |-- review_scores_location_na: double (nullable = true)\n",
      " |-- review_scores_value_na: double (nullable = true)\n",
      " |-- features: vector (nullable = true)\n",
      " |-- prediction: double (nullable = false)\n",
      "\n"
     ]
    }
   ],
   "source": [
    "pred.printSchema()"
   ]
  },
  {
   "cell_type": "code",
   "execution_count": 31,
   "id": "dfacb0e4",
   "metadata": {},
   "outputs": [],
   "source": [
    "from pyspark.ml.evaluation import RegressionEvaluator"
   ]
  },
  {
   "cell_type": "code",
   "execution_count": 32,
   "id": "a298684d",
   "metadata": {},
   "outputs": [],
   "source": [
    "r2 = RegressionEvaluator(predictionCol='prediction',labelCol='price',metricName='r2')"
   ]
  },
  {
   "cell_type": "code",
   "execution_count": 33,
   "id": "9ae6adae",
   "metadata": {},
   "outputs": [
    {
     "data": {
      "text/plain": [
       "0.13561706188192257"
      ]
     },
     "execution_count": 33,
     "metadata": {},
     "output_type": "execute_result"
    }
   ],
   "source": [
    "r2.evaluate(pred)"
   ]
  },
  {
   "cell_type": "code",
   "execution_count": 34,
   "id": "2be53781",
   "metadata": {},
   "outputs": [],
   "source": [
    "from pyspark.ml.feature import StringIndexer,OneHotEncoder"
   ]
  },
  {
   "cell_type": "code",
   "execution_count": 35,
   "id": "c545d113",
   "metadata": {},
   "outputs": [
    {
     "data": {
      "text/plain": [
       "[('host_is_superhost', 'string'),\n",
       " ('cancellation_policy', 'string'),\n",
       " ('instant_bookable', 'string'),\n",
       " ('host_total_listings_count', 'double'),\n",
       " ('neighbourhood_cleansed', 'string'),\n",
       " ('latitude', 'double'),\n",
       " ('longitude', 'double'),\n",
       " ('property_type', 'string'),\n",
       " ('room_type', 'string'),\n",
       " ('accommodates', 'double'),\n",
       " ('bathrooms', 'double'),\n",
       " ('bedrooms', 'double'),\n",
       " ('beds', 'double'),\n",
       " ('bed_type', 'string'),\n",
       " ('minimum_nights', 'double'),\n",
       " ('number_of_reviews', 'double'),\n",
       " ('review_scores_rating', 'double'),\n",
       " ('review_scores_accuracy', 'double'),\n",
       " ('review_scores_cleanliness', 'double'),\n",
       " ('review_scores_checkin', 'double'),\n",
       " ('review_scores_communication', 'double'),\n",
       " ('review_scores_location', 'double'),\n",
       " ('review_scores_value', 'double'),\n",
       " ('price', 'double'),\n",
       " ('bedrooms_na', 'double'),\n",
       " ('bathrooms_na', 'double'),\n",
       " ('beds_na', 'double'),\n",
       " ('review_scores_rating_na', 'double'),\n",
       " ('review_scores_accuracy_na', 'double'),\n",
       " ('review_scores_cleanliness_na', 'double'),\n",
       " ('review_scores_checkin_na', 'double'),\n",
       " ('review_scores_communication_na', 'double'),\n",
       " ('review_scores_location_na', 'double'),\n",
       " ('review_scores_value_na', 'double')]"
      ]
     },
     "execution_count": 35,
     "metadata": {},
     "output_type": "execute_result"
    }
   ],
   "source": [
    "trainDF.dtypes"
   ]
  },
  {
   "cell_type": "code",
   "execution_count": 36,
   "id": "5b6ad4c3",
   "metadata": {},
   "outputs": [
    {
     "data": {
      "text/plain": [
       "['host_is_superhost',\n",
       " 'cancellation_policy',\n",
       " 'instant_bookable',\n",
       " 'neighbourhood_cleansed',\n",
       " 'property_type',\n",
       " 'room_type',\n",
       " 'bed_type']"
      ]
     },
     "execution_count": 36,
     "metadata": {},
     "output_type": "execute_result"
    }
   ],
   "source": [
    "stCols = [k for (k,v) in trainDF.dtypes if v=='string']\n",
    "stCols"
   ]
  },
  {
   "cell_type": "code",
   "execution_count": 37,
   "id": "00924841",
   "metadata": {},
   "outputs": [
    {
     "data": {
      "text/plain": [
       "['host_is_superhost_ind',\n",
       " 'cancellation_policy_ind',\n",
       " 'instant_bookable_ind',\n",
       " 'neighbourhood_cleansed_ind',\n",
       " 'property_type_ind',\n",
       " 'room_type_ind',\n",
       " 'bed_type_ind']"
      ]
     },
     "execution_count": 37,
     "metadata": {},
     "output_type": "execute_result"
    }
   ],
   "source": [
    "stColsInd = [k + '_ind' for (k,v) in trainDF.dtypes if v=='string']\n",
    "stColsInd"
   ]
  },
  {
   "cell_type": "code",
   "execution_count": 40,
   "id": "6521890d",
   "metadata": {},
   "outputs": [
    {
     "data": {
      "text/plain": [
       "['host_is_superhost_OHE',\n",
       " 'cancellation_policy_OHE',\n",
       " 'instant_bookable_OHE',\n",
       " 'neighbourhood_cleansed_OHE',\n",
       " 'property_type_OHE',\n",
       " 'room_type_OHE',\n",
       " 'bed_type_OHE']"
      ]
     },
     "execution_count": 40,
     "metadata": {},
     "output_type": "execute_result"
    }
   ],
   "source": [
    "OHEcols = [k + '_OHE' for (k,v) in trainDF.dtypes if v=='string']\n",
    "OHEcols"
   ]
  },
  {
   "cell_type": "code",
   "execution_count": 43,
   "id": "26ad4dcf",
   "metadata": {},
   "outputs": [
    {
     "data": {
      "text/plain": [
       "['host_total_listings_count',\n",
       " 'latitude',\n",
       " 'longitude',\n",
       " 'accommodates',\n",
       " 'bathrooms',\n",
       " 'bedrooms',\n",
       " 'beds',\n",
       " 'minimum_nights',\n",
       " 'number_of_reviews',\n",
       " 'review_scores_rating',\n",
       " 'review_scores_accuracy',\n",
       " 'review_scores_cleanliness',\n",
       " 'review_scores_checkin',\n",
       " 'review_scores_communication',\n",
       " 'review_scores_location',\n",
       " 'review_scores_value',\n",
       " 'bedrooms_na',\n",
       " 'bathrooms_na',\n",
       " 'beds_na',\n",
       " 'review_scores_rating_na',\n",
       " 'review_scores_accuracy_na',\n",
       " 'review_scores_cleanliness_na',\n",
       " 'review_scores_checkin_na',\n",
       " 'review_scores_communication_na',\n",
       " 'review_scores_location_na',\n",
       " 'review_scores_value_na']"
      ]
     },
     "execution_count": 43,
     "metadata": {},
     "output_type": "execute_result"
    }
   ],
   "source": [
    "numcols = [k  for (k,v) in trainDF.dtypes if ((v=='double') & (k!='price'))]\n",
    "numcols"
   ]
  },
  {
   "cell_type": "code",
   "execution_count": 39,
   "id": "ceba4df0",
   "metadata": {},
   "outputs": [],
   "source": [
    "stind = StringIndexer(inputCols=stCols,outputCols=stColsInd,handleInvalid='skip')"
   ]
  },
  {
   "cell_type": "code",
   "execution_count": 41,
   "id": "fd663f43",
   "metadata": {},
   "outputs": [],
   "source": [
    "OHE = OneHotEncoder(inputCols=stColsInd,outputCols=OHEcols)"
   ]
  },
  {
   "cell_type": "code",
   "execution_count": 45,
   "id": "bc56da15",
   "metadata": {},
   "outputs": [
    {
     "data": {
      "text/plain": [
       "['host_total_listings_count',\n",
       " 'latitude',\n",
       " 'longitude',\n",
       " 'accommodates',\n",
       " 'bathrooms',\n",
       " 'bedrooms',\n",
       " 'beds',\n",
       " 'minimum_nights',\n",
       " 'number_of_reviews',\n",
       " 'review_scores_rating',\n",
       " 'review_scores_accuracy',\n",
       " 'review_scores_cleanliness',\n",
       " 'review_scores_checkin',\n",
       " 'review_scores_communication',\n",
       " 'review_scores_location',\n",
       " 'review_scores_value',\n",
       " 'bedrooms_na',\n",
       " 'bathrooms_na',\n",
       " 'beds_na',\n",
       " 'review_scores_rating_na',\n",
       " 'review_scores_accuracy_na',\n",
       " 'review_scores_cleanliness_na',\n",
       " 'review_scores_checkin_na',\n",
       " 'review_scores_communication_na',\n",
       " 'review_scores_location_na',\n",
       " 'review_scores_value_na',\n",
       " 'host_is_superhost_OHE',\n",
       " 'cancellation_policy_OHE',\n",
       " 'instant_bookable_OHE',\n",
       " 'neighbourhood_cleansed_OHE',\n",
       " 'property_type_OHE',\n",
       " 'room_type_OHE',\n",
       " 'bed_type_OHE']"
      ]
     },
     "execution_count": 45,
     "metadata": {},
     "output_type": "execute_result"
    }
   ],
   "source": [
    "All_Col = numcols + OHEcols\n",
    "All_Col"
   ]
  },
  {
   "cell_type": "code",
   "execution_count": 46,
   "id": "3bf7f85d",
   "metadata": {},
   "outputs": [],
   "source": [
    "vecAssemb = VectorAssembler(inputCols=All_Col,outputCol='features')"
   ]
  },
  {
   "cell_type": "code",
   "execution_count": 47,
   "id": "166adf62",
   "metadata": {},
   "outputs": [],
   "source": [
    "lr = LinearRegression(featuresCol='features',predictionCol='prediction',labelCol='price')"
   ]
  },
  {
   "cell_type": "code",
   "execution_count": 48,
   "id": "c59b7697",
   "metadata": {},
   "outputs": [],
   "source": [
    "from pyspark.ml import Pipeline"
   ]
  },
  {
   "cell_type": "code",
   "execution_count": 49,
   "id": "dfa0f52e",
   "metadata": {},
   "outputs": [],
   "source": [
    "pl = Pipeline(stages=[stind,OHE,vecAssemb,lr])"
   ]
  },
  {
   "cell_type": "code",
   "execution_count": 50,
   "id": "efcb0dfd",
   "metadata": {},
   "outputs": [
    {
     "name": "stderr",
     "output_type": "stream",
     "text": [
      "24/05/29 15:56:42 WARN Instrumentation: [53a22f38] regParam is zero, which might cause numerical instability and overfitting.\n",
      "24/05/29 15:56:43 WARN Instrumentation: [53a22f38] Cholesky solver failed due to singular covariance matrix. Retrying with Quasi-Newton solver.\n"
     ]
    }
   ],
   "source": [
    "plModel = pl.fit(trainDF)"
   ]
  },
  {
   "cell_type": "code",
   "execution_count": 51,
   "id": "5f2156d3",
   "metadata": {},
   "outputs": [],
   "source": [
    "pred = plModel.transform(testDF)"
   ]
  },
  {
   "cell_type": "code",
   "execution_count": 52,
   "id": "23e7b13f",
   "metadata": {},
   "outputs": [
    {
     "name": "stdout",
     "output_type": "stream",
     "text": [
      "root\n",
      " |-- host_is_superhost: string (nullable = true)\n",
      " |-- cancellation_policy: string (nullable = true)\n",
      " |-- instant_bookable: string (nullable = true)\n",
      " |-- host_total_listings_count: double (nullable = true)\n",
      " |-- neighbourhood_cleansed: string (nullable = true)\n",
      " |-- latitude: double (nullable = true)\n",
      " |-- longitude: double (nullable = true)\n",
      " |-- property_type: string (nullable = true)\n",
      " |-- room_type: string (nullable = true)\n",
      " |-- accommodates: double (nullable = true)\n",
      " |-- bathrooms: double (nullable = true)\n",
      " |-- bedrooms: double (nullable = true)\n",
      " |-- beds: double (nullable = true)\n",
      " |-- bed_type: string (nullable = true)\n",
      " |-- minimum_nights: double (nullable = true)\n",
      " |-- number_of_reviews: double (nullable = true)\n",
      " |-- review_scores_rating: double (nullable = true)\n",
      " |-- review_scores_accuracy: double (nullable = true)\n",
      " |-- review_scores_cleanliness: double (nullable = true)\n",
      " |-- review_scores_checkin: double (nullable = true)\n",
      " |-- review_scores_communication: double (nullable = true)\n",
      " |-- review_scores_location: double (nullable = true)\n",
      " |-- review_scores_value: double (nullable = true)\n",
      " |-- price: double (nullable = true)\n",
      " |-- bedrooms_na: double (nullable = true)\n",
      " |-- bathrooms_na: double (nullable = true)\n",
      " |-- beds_na: double (nullable = true)\n",
      " |-- review_scores_rating_na: double (nullable = true)\n",
      " |-- review_scores_accuracy_na: double (nullable = true)\n",
      " |-- review_scores_cleanliness_na: double (nullable = true)\n",
      " |-- review_scores_checkin_na: double (nullable = true)\n",
      " |-- review_scores_communication_na: double (nullable = true)\n",
      " |-- review_scores_location_na: double (nullable = true)\n",
      " |-- review_scores_value_na: double (nullable = true)\n",
      " |-- host_is_superhost_ind: double (nullable = false)\n",
      " |-- cancellation_policy_ind: double (nullable = false)\n",
      " |-- instant_bookable_ind: double (nullable = false)\n",
      " |-- neighbourhood_cleansed_ind: double (nullable = false)\n",
      " |-- property_type_ind: double (nullable = false)\n",
      " |-- room_type_ind: double (nullable = false)\n",
      " |-- bed_type_ind: double (nullable = false)\n",
      " |-- host_is_superhost_OHE: vector (nullable = true)\n",
      " |-- cancellation_policy_OHE: vector (nullable = true)\n",
      " |-- instant_bookable_OHE: vector (nullable = true)\n",
      " |-- neighbourhood_cleansed_OHE: vector (nullable = true)\n",
      " |-- property_type_OHE: vector (nullable = true)\n",
      " |-- room_type_OHE: vector (nullable = true)\n",
      " |-- bed_type_OHE: vector (nullable = true)\n",
      " |-- features: vector (nullable = true)\n",
      " |-- prediction: double (nullable = false)\n",
      "\n"
     ]
    }
   ],
   "source": [
    "pred.printSchema()"
   ]
  },
  {
   "cell_type": "code",
   "execution_count": 55,
   "id": "19ebc78d",
   "metadata": {},
   "outputs": [
    {
     "name": "stdout",
     "output_type": "stream",
     "text": [
      "+--------------------+\n",
      "|            features|\n",
      "+--------------------+\n",
      "|(98,[1,2,3,4,5,6,...|\n",
      "|(98,[0,1,2,3,4,5,...|\n",
      "|(98,[0,1,2,3,4,5,...|\n",
      "|(98,[0,1,2,3,4,5,...|\n",
      "|(98,[0,1,2,3,4,5,...|\n",
      "|(98,[0,1,2,3,4,5,...|\n",
      "|(98,[0,1,2,3,4,5,...|\n",
      "|(98,[0,1,2,3,4,5,...|\n",
      "|(98,[0,1,2,3,4,5,...|\n",
      "|(98,[0,1,2,3,4,5,...|\n",
      "|(98,[0,1,2,3,4,5,...|\n",
      "|(98,[0,1,2,3,4,5,...|\n",
      "|(98,[0,1,2,3,4,5,...|\n",
      "|(98,[0,1,2,3,4,5,...|\n",
      "|(98,[0,1,2,3,4,5,...|\n",
      "|(98,[0,1,2,3,4,6,...|\n",
      "|(98,[0,1,2,3,4,5,...|\n",
      "|(98,[0,1,2,3,4,5,...|\n",
      "|(98,[0,1,2,3,4,5,...|\n",
      "|(98,[0,1,2,3,4,5,...|\n",
      "+--------------------+\n",
      "only showing top 20 rows\n",
      "\n"
     ]
    }
   ],
   "source": [
    "pred.select('features').show()"
   ]
  },
  {
   "cell_type": "code",
   "execution_count": 56,
   "id": "7fe9a004",
   "metadata": {},
   "outputs": [
    {
     "name": "stdout",
     "output_type": "stream",
     "text": [
      "+-------------------------------------------------------------------------------------------------------------------------------------------------------------------------------------+\n",
      "|features                                                                                                                                                                             |\n",
      "+-------------------------------------------------------------------------------------------------------------------------------------------------------------------------------------+\n",
      "|(98,[1,2,3,4,5,6,7,8,9,10,11,12,13,14,15,26,29,32,66,69,93,94],[37.7431,-122.44509,2.0,1.0,1.0,1.0,1.0,1.0,100.0,10.0,10.0,10.0,10.0,10.0,10.0,1.0,1.0,1.0,1.0,1.0,1.0,1.0])         |\n",
      "|(98,[0,1,2,3,4,5,6,7,8,9,10,11,12,13,14,15,26,29,32,46,68,92,94],[1.0,37.71178,-122.38762,3.0,1.0,1.0,1.0,90.0,13.0,88.0,10.0,9.0,8.0,9.0,10.0,10.0,1.0,1.0,1.0,1.0,1.0,1.0,1.0])    |\n",
      "|(98,[0,1,2,3,4,5,6,7,8,9,10,11,12,13,14,15,26,29,32,46,71,92,94],[1.0,37.72241,-122.39829,4.0,1.0,1.0,3.0,1.0,12.0,98.0,10.0,10.0,10.0,10.0,9.0,10.0,1.0,1.0,1.0,1.0,1.0,1.0,1.0])   |\n",
      "|(98,[0,1,2,3,4,5,6,7,8,9,10,11,12,13,14,15,26,29,32,46,68,92,94],[1.0,37.72979,-122.37094,2.0,1.0,1.0,1.0,180.0,1.0,100.0,10.0,10.0,10.0,10.0,10.0,10.0,1.0,1.0,1.0,1.0,1.0,1.0,1.0])|\n",
      "+-------------------------------------------------------------------------------------------------------------------------------------------------------------------------------------+\n",
      "only showing top 4 rows\n",
      "\n"
     ]
    }
   ],
   "source": [
    "pred.select('features').show(4,truncate=False)"
   ]
  },
  {
   "cell_type": "code",
   "execution_count": 57,
   "id": "f1f61524",
   "metadata": {},
   "outputs": [
    {
     "data": {
      "text/plain": [
       "0.14913176904993353"
      ]
     },
     "execution_count": 57,
     "metadata": {},
     "output_type": "execute_result"
    }
   ],
   "source": [
    "r2.evaluate(pred)"
   ]
  },
  {
   "cell_type": "code",
   "execution_count": 58,
   "id": "f40fa67e",
   "metadata": {},
   "outputs": [],
   "source": [
    "dfpd = df.toPandas()"
   ]
  },
  {
   "cell_type": "code",
   "execution_count": 60,
   "id": "e9ccc5ef",
   "metadata": {},
   "outputs": [
    {
     "data": {
      "text/html": [
       "<div>\n",
       "<style scoped>\n",
       "    .dataframe tbody tr th:only-of-type {\n",
       "        vertical-align: middle;\n",
       "    }\n",
       "\n",
       "    .dataframe tbody tr th {\n",
       "        vertical-align: top;\n",
       "    }\n",
       "\n",
       "    .dataframe thead th {\n",
       "        text-align: right;\n",
       "    }\n",
       "</style>\n",
       "<table border=\"1\" class=\"dataframe\">\n",
       "  <thead>\n",
       "    <tr style=\"text-align: right;\">\n",
       "      <th></th>\n",
       "      <th>host_is_superhost</th>\n",
       "      <th>cancellation_policy</th>\n",
       "      <th>instant_bookable</th>\n",
       "      <th>host_total_listings_count</th>\n",
       "      <th>neighbourhood_cleansed</th>\n",
       "      <th>latitude</th>\n",
       "      <th>longitude</th>\n",
       "      <th>property_type</th>\n",
       "      <th>room_type</th>\n",
       "      <th>accommodates</th>\n",
       "      <th>...</th>\n",
       "      <th>bedrooms_na</th>\n",
       "      <th>bathrooms_na</th>\n",
       "      <th>beds_na</th>\n",
       "      <th>review_scores_rating_na</th>\n",
       "      <th>review_scores_accuracy_na</th>\n",
       "      <th>review_scores_cleanliness_na</th>\n",
       "      <th>review_scores_checkin_na</th>\n",
       "      <th>review_scores_communication_na</th>\n",
       "      <th>review_scores_location_na</th>\n",
       "      <th>review_scores_value_na</th>\n",
       "    </tr>\n",
       "  </thead>\n",
       "  <tbody>\n",
       "    <tr>\n",
       "      <th>0</th>\n",
       "      <td>t</td>\n",
       "      <td>moderate</td>\n",
       "      <td>t</td>\n",
       "      <td>1.0</td>\n",
       "      <td>Western Addition</td>\n",
       "      <td>37.76931</td>\n",
       "      <td>-122.43386</td>\n",
       "      <td>Apartment</td>\n",
       "      <td>Entire home/apt</td>\n",
       "      <td>3.0</td>\n",
       "      <td>...</td>\n",
       "      <td>0.0</td>\n",
       "      <td>0.0</td>\n",
       "      <td>0.0</td>\n",
       "      <td>0.0</td>\n",
       "      <td>0.0</td>\n",
       "      <td>0.0</td>\n",
       "      <td>0.0</td>\n",
       "      <td>0.0</td>\n",
       "      <td>0.0</td>\n",
       "      <td>0.0</td>\n",
       "    </tr>\n",
       "    <tr>\n",
       "      <th>1</th>\n",
       "      <td>f</td>\n",
       "      <td>strict_14_with_grace_period</td>\n",
       "      <td>f</td>\n",
       "      <td>2.0</td>\n",
       "      <td>Bernal Heights</td>\n",
       "      <td>37.74511</td>\n",
       "      <td>-122.42102</td>\n",
       "      <td>Apartment</td>\n",
       "      <td>Entire home/apt</td>\n",
       "      <td>5.0</td>\n",
       "      <td>...</td>\n",
       "      <td>0.0</td>\n",
       "      <td>0.0</td>\n",
       "      <td>0.0</td>\n",
       "      <td>0.0</td>\n",
       "      <td>0.0</td>\n",
       "      <td>0.0</td>\n",
       "      <td>0.0</td>\n",
       "      <td>0.0</td>\n",
       "      <td>0.0</td>\n",
       "      <td>0.0</td>\n",
       "    </tr>\n",
       "    <tr>\n",
       "      <th>2</th>\n",
       "      <td>f</td>\n",
       "      <td>strict_14_with_grace_period</td>\n",
       "      <td>f</td>\n",
       "      <td>10.0</td>\n",
       "      <td>Haight Ashbury</td>\n",
       "      <td>37.76669</td>\n",
       "      <td>-122.45250</td>\n",
       "      <td>Apartment</td>\n",
       "      <td>Private room</td>\n",
       "      <td>2.0</td>\n",
       "      <td>...</td>\n",
       "      <td>0.0</td>\n",
       "      <td>0.0</td>\n",
       "      <td>0.0</td>\n",
       "      <td>0.0</td>\n",
       "      <td>0.0</td>\n",
       "      <td>0.0</td>\n",
       "      <td>0.0</td>\n",
       "      <td>0.0</td>\n",
       "      <td>0.0</td>\n",
       "      <td>0.0</td>\n",
       "    </tr>\n",
       "    <tr>\n",
       "      <th>3</th>\n",
       "      <td>f</td>\n",
       "      <td>strict_14_with_grace_period</td>\n",
       "      <td>f</td>\n",
       "      <td>10.0</td>\n",
       "      <td>Haight Ashbury</td>\n",
       "      <td>37.76487</td>\n",
       "      <td>-122.45183</td>\n",
       "      <td>Apartment</td>\n",
       "      <td>Private room</td>\n",
       "      <td>2.0</td>\n",
       "      <td>...</td>\n",
       "      <td>0.0</td>\n",
       "      <td>0.0</td>\n",
       "      <td>0.0</td>\n",
       "      <td>0.0</td>\n",
       "      <td>0.0</td>\n",
       "      <td>0.0</td>\n",
       "      <td>0.0</td>\n",
       "      <td>0.0</td>\n",
       "      <td>0.0</td>\n",
       "      <td>0.0</td>\n",
       "    </tr>\n",
       "    <tr>\n",
       "      <th>4</th>\n",
       "      <td>f</td>\n",
       "      <td>strict_14_with_grace_period</td>\n",
       "      <td>f</td>\n",
       "      <td>2.0</td>\n",
       "      <td>Western Addition</td>\n",
       "      <td>37.77525</td>\n",
       "      <td>-122.43637</td>\n",
       "      <td>House</td>\n",
       "      <td>Entire home/apt</td>\n",
       "      <td>5.0</td>\n",
       "      <td>...</td>\n",
       "      <td>0.0</td>\n",
       "      <td>0.0</td>\n",
       "      <td>0.0</td>\n",
       "      <td>0.0</td>\n",
       "      <td>0.0</td>\n",
       "      <td>0.0</td>\n",
       "      <td>0.0</td>\n",
       "      <td>0.0</td>\n",
       "      <td>0.0</td>\n",
       "      <td>0.0</td>\n",
       "    </tr>\n",
       "    <tr>\n",
       "      <th>...</th>\n",
       "      <td>...</td>\n",
       "      <td>...</td>\n",
       "      <td>...</td>\n",
       "      <td>...</td>\n",
       "      <td>...</td>\n",
       "      <td>...</td>\n",
       "      <td>...</td>\n",
       "      <td>...</td>\n",
       "      <td>...</td>\n",
       "      <td>...</td>\n",
       "      <td>...</td>\n",
       "      <td>...</td>\n",
       "      <td>...</td>\n",
       "      <td>...</td>\n",
       "      <td>...</td>\n",
       "      <td>...</td>\n",
       "      <td>...</td>\n",
       "      <td>...</td>\n",
       "      <td>...</td>\n",
       "      <td>...</td>\n",
       "      <td>...</td>\n",
       "    </tr>\n",
       "    <tr>\n",
       "      <th>7141</th>\n",
       "      <td>f</td>\n",
       "      <td>flexible</td>\n",
       "      <td>t</td>\n",
       "      <td>18.0</td>\n",
       "      <td>Noe Valley</td>\n",
       "      <td>37.74884</td>\n",
       "      <td>-122.42830</td>\n",
       "      <td>House</td>\n",
       "      <td>Entire home/apt</td>\n",
       "      <td>3.0</td>\n",
       "      <td>...</td>\n",
       "      <td>0.0</td>\n",
       "      <td>0.0</td>\n",
       "      <td>0.0</td>\n",
       "      <td>1.0</td>\n",
       "      <td>1.0</td>\n",
       "      <td>1.0</td>\n",
       "      <td>1.0</td>\n",
       "      <td>1.0</td>\n",
       "      <td>1.0</td>\n",
       "      <td>1.0</td>\n",
       "    </tr>\n",
       "    <tr>\n",
       "      <th>7142</th>\n",
       "      <td>t</td>\n",
       "      <td>flexible</td>\n",
       "      <td>t</td>\n",
       "      <td>10.0</td>\n",
       "      <td>Russian Hill</td>\n",
       "      <td>37.80645</td>\n",
       "      <td>-122.42109</td>\n",
       "      <td>Guest suite</td>\n",
       "      <td>Entire home/apt</td>\n",
       "      <td>2.0</td>\n",
       "      <td>...</td>\n",
       "      <td>0.0</td>\n",
       "      <td>0.0</td>\n",
       "      <td>0.0</td>\n",
       "      <td>1.0</td>\n",
       "      <td>1.0</td>\n",
       "      <td>1.0</td>\n",
       "      <td>1.0</td>\n",
       "      <td>1.0</td>\n",
       "      <td>1.0</td>\n",
       "      <td>1.0</td>\n",
       "    </tr>\n",
       "    <tr>\n",
       "      <th>7143</th>\n",
       "      <td>t</td>\n",
       "      <td>flexible</td>\n",
       "      <td>t</td>\n",
       "      <td>10.0</td>\n",
       "      <td>Western Addition</td>\n",
       "      <td>37.78855</td>\n",
       "      <td>-122.43110</td>\n",
       "      <td>Apartment</td>\n",
       "      <td>Entire home/apt</td>\n",
       "      <td>4.0</td>\n",
       "      <td>...</td>\n",
       "      <td>0.0</td>\n",
       "      <td>0.0</td>\n",
       "      <td>0.0</td>\n",
       "      <td>1.0</td>\n",
       "      <td>1.0</td>\n",
       "      <td>1.0</td>\n",
       "      <td>1.0</td>\n",
       "      <td>1.0</td>\n",
       "      <td>1.0</td>\n",
       "      <td>1.0</td>\n",
       "    </tr>\n",
       "    <tr>\n",
       "      <th>7144</th>\n",
       "      <td>f</td>\n",
       "      <td>flexible</td>\n",
       "      <td>t</td>\n",
       "      <td>87.0</td>\n",
       "      <td>Downtown/Civic Center</td>\n",
       "      <td>37.78645</td>\n",
       "      <td>-122.41458</td>\n",
       "      <td>Apartment</td>\n",
       "      <td>Entire home/apt</td>\n",
       "      <td>3.0</td>\n",
       "      <td>...</td>\n",
       "      <td>0.0</td>\n",
       "      <td>0.0</td>\n",
       "      <td>0.0</td>\n",
       "      <td>1.0</td>\n",
       "      <td>1.0</td>\n",
       "      <td>1.0</td>\n",
       "      <td>1.0</td>\n",
       "      <td>1.0</td>\n",
       "      <td>1.0</td>\n",
       "      <td>1.0</td>\n",
       "    </tr>\n",
       "    <tr>\n",
       "      <th>7145</th>\n",
       "      <td>f</td>\n",
       "      <td>flexible</td>\n",
       "      <td>f</td>\n",
       "      <td>87.0</td>\n",
       "      <td>Downtown/Civic Center</td>\n",
       "      <td>37.78645</td>\n",
       "      <td>-122.41458</td>\n",
       "      <td>Apartment</td>\n",
       "      <td>Entire home/apt</td>\n",
       "      <td>5.0</td>\n",
       "      <td>...</td>\n",
       "      <td>0.0</td>\n",
       "      <td>0.0</td>\n",
       "      <td>0.0</td>\n",
       "      <td>1.0</td>\n",
       "      <td>1.0</td>\n",
       "      <td>1.0</td>\n",
       "      <td>1.0</td>\n",
       "      <td>1.0</td>\n",
       "      <td>1.0</td>\n",
       "      <td>1.0</td>\n",
       "    </tr>\n",
       "  </tbody>\n",
       "</table>\n",
       "<p>7146 rows × 34 columns</p>\n",
       "</div>"
      ],
      "text/plain": [
       "     host_is_superhost          cancellation_policy instant_bookable  \\\n",
       "0                    t                     moderate                t   \n",
       "1                    f  strict_14_with_grace_period                f   \n",
       "2                    f  strict_14_with_grace_period                f   \n",
       "3                    f  strict_14_with_grace_period                f   \n",
       "4                    f  strict_14_with_grace_period                f   \n",
       "...                ...                          ...              ...   \n",
       "7141                 f                     flexible                t   \n",
       "7142                 t                     flexible                t   \n",
       "7143                 t                     flexible                t   \n",
       "7144                 f                     flexible                t   \n",
       "7145                 f                     flexible                f   \n",
       "\n",
       "      host_total_listings_count neighbourhood_cleansed  latitude  longitude  \\\n",
       "0                           1.0       Western Addition  37.76931 -122.43386   \n",
       "1                           2.0         Bernal Heights  37.74511 -122.42102   \n",
       "2                          10.0         Haight Ashbury  37.76669 -122.45250   \n",
       "3                          10.0         Haight Ashbury  37.76487 -122.45183   \n",
       "4                           2.0       Western Addition  37.77525 -122.43637   \n",
       "...                         ...                    ...       ...        ...   \n",
       "7141                       18.0             Noe Valley  37.74884 -122.42830   \n",
       "7142                       10.0           Russian Hill  37.80645 -122.42109   \n",
       "7143                       10.0       Western Addition  37.78855 -122.43110   \n",
       "7144                       87.0  Downtown/Civic Center  37.78645 -122.41458   \n",
       "7145                       87.0  Downtown/Civic Center  37.78645 -122.41458   \n",
       "\n",
       "     property_type        room_type  accommodates  ...  bedrooms_na  \\\n",
       "0        Apartment  Entire home/apt           3.0  ...          0.0   \n",
       "1        Apartment  Entire home/apt           5.0  ...          0.0   \n",
       "2        Apartment     Private room           2.0  ...          0.0   \n",
       "3        Apartment     Private room           2.0  ...          0.0   \n",
       "4            House  Entire home/apt           5.0  ...          0.0   \n",
       "...            ...              ...           ...  ...          ...   \n",
       "7141         House  Entire home/apt           3.0  ...          0.0   \n",
       "7142   Guest suite  Entire home/apt           2.0  ...          0.0   \n",
       "7143     Apartment  Entire home/apt           4.0  ...          0.0   \n",
       "7144     Apartment  Entire home/apt           3.0  ...          0.0   \n",
       "7145     Apartment  Entire home/apt           5.0  ...          0.0   \n",
       "\n",
       "      bathrooms_na  beds_na review_scores_rating_na  \\\n",
       "0              0.0      0.0                     0.0   \n",
       "1              0.0      0.0                     0.0   \n",
       "2              0.0      0.0                     0.0   \n",
       "3              0.0      0.0                     0.0   \n",
       "4              0.0      0.0                     0.0   \n",
       "...            ...      ...                     ...   \n",
       "7141           0.0      0.0                     1.0   \n",
       "7142           0.0      0.0                     1.0   \n",
       "7143           0.0      0.0                     1.0   \n",
       "7144           0.0      0.0                     1.0   \n",
       "7145           0.0      0.0                     1.0   \n",
       "\n",
       "      review_scores_accuracy_na  review_scores_cleanliness_na  \\\n",
       "0                           0.0                           0.0   \n",
       "1                           0.0                           0.0   \n",
       "2                           0.0                           0.0   \n",
       "3                           0.0                           0.0   \n",
       "4                           0.0                           0.0   \n",
       "...                         ...                           ...   \n",
       "7141                        1.0                           1.0   \n",
       "7142                        1.0                           1.0   \n",
       "7143                        1.0                           1.0   \n",
       "7144                        1.0                           1.0   \n",
       "7145                        1.0                           1.0   \n",
       "\n",
       "      review_scores_checkin_na  review_scores_communication_na  \\\n",
       "0                          0.0                             0.0   \n",
       "1                          0.0                             0.0   \n",
       "2                          0.0                             0.0   \n",
       "3                          0.0                             0.0   \n",
       "4                          0.0                             0.0   \n",
       "...                        ...                             ...   \n",
       "7141                       1.0                             1.0   \n",
       "7142                       1.0                             1.0   \n",
       "7143                       1.0                             1.0   \n",
       "7144                       1.0                             1.0   \n",
       "7145                       1.0                             1.0   \n",
       "\n",
       "      review_scores_location_na  review_scores_value_na  \n",
       "0                           0.0                     0.0  \n",
       "1                           0.0                     0.0  \n",
       "2                           0.0                     0.0  \n",
       "3                           0.0                     0.0  \n",
       "4                           0.0                     0.0  \n",
       "...                         ...                     ...  \n",
       "7141                        1.0                     1.0  \n",
       "7142                        1.0                     1.0  \n",
       "7143                        1.0                     1.0  \n",
       "7144                        1.0                     1.0  \n",
       "7145                        1.0                     1.0  \n",
       "\n",
       "[7146 rows x 34 columns]"
      ]
     },
     "execution_count": 60,
     "metadata": {},
     "output_type": "execute_result"
    }
   ],
   "source": [
    "dfpd"
   ]
  },
  {
   "cell_type": "code",
   "execution_count": 59,
   "id": "ea16bca2",
   "metadata": {},
   "outputs": [
    {
     "data": {
      "text/html": [
       "<div>\n",
       "<style scoped>\n",
       "    .dataframe tbody tr th:only-of-type {\n",
       "        vertical-align: middle;\n",
       "    }\n",
       "\n",
       "    .dataframe tbody tr th {\n",
       "        vertical-align: top;\n",
       "    }\n",
       "\n",
       "    .dataframe thead th {\n",
       "        text-align: right;\n",
       "    }\n",
       "</style>\n",
       "<table border=\"1\" class=\"dataframe\">\n",
       "  <thead>\n",
       "    <tr style=\"text-align: right;\">\n",
       "      <th></th>\n",
       "      <th>host_is_superhost</th>\n",
       "      <th>cancellation_policy</th>\n",
       "      <th>instant_bookable</th>\n",
       "      <th>host_total_listings_count</th>\n",
       "      <th>neighbourhood_cleansed</th>\n",
       "      <th>latitude</th>\n",
       "      <th>longitude</th>\n",
       "      <th>property_type</th>\n",
       "      <th>room_type</th>\n",
       "      <th>accommodates</th>\n",
       "      <th>...</th>\n",
       "      <th>bedrooms_na</th>\n",
       "      <th>bathrooms_na</th>\n",
       "      <th>beds_na</th>\n",
       "      <th>review_scores_rating_na</th>\n",
       "      <th>review_scores_accuracy_na</th>\n",
       "      <th>review_scores_cleanliness_na</th>\n",
       "      <th>review_scores_checkin_na</th>\n",
       "      <th>review_scores_communication_na</th>\n",
       "      <th>review_scores_location_na</th>\n",
       "      <th>review_scores_value_na</th>\n",
       "    </tr>\n",
       "  </thead>\n",
       "  <tbody>\n",
       "    <tr>\n",
       "      <th>0</th>\n",
       "      <td>t</td>\n",
       "      <td>moderate</td>\n",
       "      <td>t</td>\n",
       "      <td>1.0</td>\n",
       "      <td>Western Addition</td>\n",
       "      <td>37.76931</td>\n",
       "      <td>-122.43386</td>\n",
       "      <td>Apartment</td>\n",
       "      <td>Entire home/apt</td>\n",
       "      <td>3.0</td>\n",
       "      <td>...</td>\n",
       "      <td>0.0</td>\n",
       "      <td>0.0</td>\n",
       "      <td>0.0</td>\n",
       "      <td>0.0</td>\n",
       "      <td>0.0</td>\n",
       "      <td>0.0</td>\n",
       "      <td>0.0</td>\n",
       "      <td>0.0</td>\n",
       "      <td>0.0</td>\n",
       "      <td>0.0</td>\n",
       "    </tr>\n",
       "    <tr>\n",
       "      <th>1</th>\n",
       "      <td>f</td>\n",
       "      <td>strict_14_with_grace_period</td>\n",
       "      <td>f</td>\n",
       "      <td>2.0</td>\n",
       "      <td>Bernal Heights</td>\n",
       "      <td>37.74511</td>\n",
       "      <td>-122.42102</td>\n",
       "      <td>Apartment</td>\n",
       "      <td>Entire home/apt</td>\n",
       "      <td>5.0</td>\n",
       "      <td>...</td>\n",
       "      <td>0.0</td>\n",
       "      <td>0.0</td>\n",
       "      <td>0.0</td>\n",
       "      <td>0.0</td>\n",
       "      <td>0.0</td>\n",
       "      <td>0.0</td>\n",
       "      <td>0.0</td>\n",
       "      <td>0.0</td>\n",
       "      <td>0.0</td>\n",
       "      <td>0.0</td>\n",
       "    </tr>\n",
       "    <tr>\n",
       "      <th>2</th>\n",
       "      <td>f</td>\n",
       "      <td>strict_14_with_grace_period</td>\n",
       "      <td>f</td>\n",
       "      <td>10.0</td>\n",
       "      <td>Haight Ashbury</td>\n",
       "      <td>37.76669</td>\n",
       "      <td>-122.45250</td>\n",
       "      <td>Apartment</td>\n",
       "      <td>Private room</td>\n",
       "      <td>2.0</td>\n",
       "      <td>...</td>\n",
       "      <td>0.0</td>\n",
       "      <td>0.0</td>\n",
       "      <td>0.0</td>\n",
       "      <td>0.0</td>\n",
       "      <td>0.0</td>\n",
       "      <td>0.0</td>\n",
       "      <td>0.0</td>\n",
       "      <td>0.0</td>\n",
       "      <td>0.0</td>\n",
       "      <td>0.0</td>\n",
       "    </tr>\n",
       "    <tr>\n",
       "      <th>3</th>\n",
       "      <td>f</td>\n",
       "      <td>strict_14_with_grace_period</td>\n",
       "      <td>f</td>\n",
       "      <td>10.0</td>\n",
       "      <td>Haight Ashbury</td>\n",
       "      <td>37.76487</td>\n",
       "      <td>-122.45183</td>\n",
       "      <td>Apartment</td>\n",
       "      <td>Private room</td>\n",
       "      <td>2.0</td>\n",
       "      <td>...</td>\n",
       "      <td>0.0</td>\n",
       "      <td>0.0</td>\n",
       "      <td>0.0</td>\n",
       "      <td>0.0</td>\n",
       "      <td>0.0</td>\n",
       "      <td>0.0</td>\n",
       "      <td>0.0</td>\n",
       "      <td>0.0</td>\n",
       "      <td>0.0</td>\n",
       "      <td>0.0</td>\n",
       "    </tr>\n",
       "    <tr>\n",
       "      <th>4</th>\n",
       "      <td>f</td>\n",
       "      <td>strict_14_with_grace_period</td>\n",
       "      <td>f</td>\n",
       "      <td>2.0</td>\n",
       "      <td>Western Addition</td>\n",
       "      <td>37.77525</td>\n",
       "      <td>-122.43637</td>\n",
       "      <td>House</td>\n",
       "      <td>Entire home/apt</td>\n",
       "      <td>5.0</td>\n",
       "      <td>...</td>\n",
       "      <td>0.0</td>\n",
       "      <td>0.0</td>\n",
       "      <td>0.0</td>\n",
       "      <td>0.0</td>\n",
       "      <td>0.0</td>\n",
       "      <td>0.0</td>\n",
       "      <td>0.0</td>\n",
       "      <td>0.0</td>\n",
       "      <td>0.0</td>\n",
       "      <td>0.0</td>\n",
       "    </tr>\n",
       "  </tbody>\n",
       "</table>\n",
       "<p>5 rows × 34 columns</p>\n",
       "</div>"
      ],
      "text/plain": [
       "  host_is_superhost          cancellation_policy instant_bookable  \\\n",
       "0                 t                     moderate                t   \n",
       "1                 f  strict_14_with_grace_period                f   \n",
       "2                 f  strict_14_with_grace_period                f   \n",
       "3                 f  strict_14_with_grace_period                f   \n",
       "4                 f  strict_14_with_grace_period                f   \n",
       "\n",
       "   host_total_listings_count neighbourhood_cleansed  latitude  longitude  \\\n",
       "0                        1.0       Western Addition  37.76931 -122.43386   \n",
       "1                        2.0         Bernal Heights  37.74511 -122.42102   \n",
       "2                       10.0         Haight Ashbury  37.76669 -122.45250   \n",
       "3                       10.0         Haight Ashbury  37.76487 -122.45183   \n",
       "4                        2.0       Western Addition  37.77525 -122.43637   \n",
       "\n",
       "  property_type        room_type  accommodates  ...  bedrooms_na  \\\n",
       "0     Apartment  Entire home/apt           3.0  ...          0.0   \n",
       "1     Apartment  Entire home/apt           5.0  ...          0.0   \n",
       "2     Apartment     Private room           2.0  ...          0.0   \n",
       "3     Apartment     Private room           2.0  ...          0.0   \n",
       "4         House  Entire home/apt           5.0  ...          0.0   \n",
       "\n",
       "   bathrooms_na  beds_na review_scores_rating_na  review_scores_accuracy_na  \\\n",
       "0           0.0      0.0                     0.0                        0.0   \n",
       "1           0.0      0.0                     0.0                        0.0   \n",
       "2           0.0      0.0                     0.0                        0.0   \n",
       "3           0.0      0.0                     0.0                        0.0   \n",
       "4           0.0      0.0                     0.0                        0.0   \n",
       "\n",
       "   review_scores_cleanliness_na  review_scores_checkin_na  \\\n",
       "0                           0.0                       0.0   \n",
       "1                           0.0                       0.0   \n",
       "2                           0.0                       0.0   \n",
       "3                           0.0                       0.0   \n",
       "4                           0.0                       0.0   \n",
       "\n",
       "   review_scores_communication_na  review_scores_location_na  \\\n",
       "0                             0.0                        0.0   \n",
       "1                             0.0                        0.0   \n",
       "2                             0.0                        0.0   \n",
       "3                             0.0                        0.0   \n",
       "4                             0.0                        0.0   \n",
       "\n",
       "   review_scores_value_na  \n",
       "0                     0.0  \n",
       "1                     0.0  \n",
       "2                     0.0  \n",
       "3                     0.0  \n",
       "4                     0.0  \n",
       "\n",
       "[5 rows x 34 columns]"
      ]
     },
     "execution_count": 59,
     "metadata": {},
     "output_type": "execute_result"
    }
   ],
   "source": [
    "dfpd.head()"
   ]
  },
  {
   "cell_type": "code",
   "execution_count": 61,
   "id": "94ff121a",
   "metadata": {},
   "outputs": [],
   "source": [
    "plModel.write().overwrite().save('MansplModel')"
   ]
  },
  {
   "cell_type": "code",
   "execution_count": 62,
   "id": "d1009b27",
   "metadata": {},
   "outputs": [],
   "source": [
    "from pyspark.ml import PipelineModel"
   ]
  },
  {
   "cell_type": "code",
   "execution_count": 63,
   "id": "c2911d2d",
   "metadata": {},
   "outputs": [
    {
     "name": "stderr",
     "output_type": "stream",
     "text": [
      "                                                                                \r"
     ]
    }
   ],
   "source": [
    "svedPL = PipelineModel.load('MansplModel')"
   ]
  }
 ],
 "metadata": {
  "kernelspec": {
   "display_name": "Python 3 (ipykernel)",
   "language": "python",
   "name": "python3"
  },
  "language_info": {
   "codemirror_mode": {
    "name": "ipython",
    "version": 3
   },
   "file_extension": ".py",
   "mimetype": "text/x-python",
   "name": "python",
   "nbconvert_exporter": "python",
   "pygments_lexer": "ipython3",
   "version": "3.11.4"
  }
 },
 "nbformat": 4,
 "nbformat_minor": 5
}
